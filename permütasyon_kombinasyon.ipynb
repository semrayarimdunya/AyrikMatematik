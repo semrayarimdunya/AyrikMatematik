{
  "nbformat": 4,
  "nbformat_minor": 0,
  "metadata": {
    "colab": {
      "provenance": [],
      "authorship_tag": "ABX9TyOgPjwGYop94gjXjCz+Qg24",
      "include_colab_link": true
    },
    "kernelspec": {
      "name": "python3",
      "display_name": "Python 3"
    },
    "language_info": {
      "name": "python"
    }
  },
  "cells": [
    {
      "cell_type": "markdown",
      "metadata": {
        "id": "view-in-github",
        "colab_type": "text"
      },
      "source": [
        "<a href=\"https://colab.research.google.com/github/semrayarimdunya/AyrikMatematik/blob/main/perm%C3%BCtasyon_kombinasyon.ipynb\" target=\"_parent\"><img src=\"https://colab.research.google.com/assets/colab-badge.svg\" alt=\"Open In Colab\"/></a>"
      ]
    },
    {
      "cell_type": "markdown",
      "source": [
        "PERMÜTASYON ÖRNEĞİ:"
      ],
      "metadata": {
        "id": "vh3mBjH8tDCa"
      }
    },
    {
      "cell_type": "markdown",
      "source": [
        "Soru 1: Permütasyon nesnelerin diziliş sayısını bulmamızı sağlar. 6 arkadaştan 4’ü masaya oturucaktır. Bu 4 kişi kaç farklı şekilde masaya oturabilir sorusuna çözüm bulmak için permütasyon kullanırız. Aldığı sayılara göre permütasyon hesabı yapan kodu yazınız."
      ],
      "metadata": {
        "id": "eRYWPkHPqDhf"
      }
    },
    {
      "cell_type": "markdown",
      "source": [
        "Cevap:Burada 6 kişi arasından 4 ünün kendi aralarında kaç farklı sekilde sıralandığını soruyor:\n",
        "P(6,4)=6!/(6-4)! \n",
        "      =360 olur."
      ],
      "metadata": {
        "id": "FY1NCps3qP1B"
      }
    },
    {
      "cell_type": "code",
      "execution_count": 2,
      "metadata": {
        "colab": {
          "base_uri": "https://localhost:8080/"
        },
        "id": "irxENDVYpJ1f",
        "outputId": "617544cc-b000-406a-995e-f3d0b051df32"
      },
      "outputs": [
        {
          "output_type": "stream",
          "name": "stdout",
          "text": [
            "Permütasyon hesabı için lütfen sayıları giriniz.\n",
            "1. Sayı Giriniz: 6\n",
            "2. Sayı Giriniz: 4\n",
            "Sonuç: 360.0\n"
          ]
        }
      ],
      "source": [
        "def faktoriyelHesapla(i):\n",
        "    \n",
        "    if i==1:       \n",
        "        return 1\n",
        "    \n",
        "    else: \n",
        "        return i * faktoriyelHesapla(i-1)\n",
        "    \n",
        "def permutasyonHesapla(j,k):\n",
        "    \n",
        "    l = 0\n",
        "    \n",
        "    if k>j:        \n",
        "        l = l\n",
        "        \n",
        "    else:      \n",
        "        l = faktoriyelHesapla(j)/faktoriyelHesapla(j-k)\n",
        "        return l\n",
        "    \n",
        "print(\"Permütasyon hesabı için lütfen sayıları giriniz.\")   \n",
        "\n",
        "sayi1 = int(input(\"1. Sayı Giriniz: \"))\n",
        "\n",
        "sayi2 = int(input(\"2. Sayı Giriniz: \")) \n",
        "\n",
        "print(\"Sonuç:\", permutasyonHesapla(sayi1,sayi2) )"
      ]
    },
    {
      "cell_type": "markdown",
      "source": [
        "\n",
        "\n",
        "\n",
        "\n",
        "\n",
        "KOMBİNASYON ÖRNEĞİ:"
      ],
      "metadata": {
        "id": "-n8aGjW5s5IG"
      }
    },
    {
      "cell_type": "markdown",
      "source": [
        "Soru 2:5 elemanlı olan kümenin 3 elemanlı kombinasyonu kaç olur?"
      ],
      "metadata": {
        "id": "dnZ6KdJQpnLg"
      }
    },
    {
      "cell_type": "markdown",
      "source": [
        "Cevap:5 nin 3 lü kombinasyonu kaça eşittir?\n",
        "N tane değerin a'ıncı kombinasyonunu bulmak için verileni istenen kadar açman gerekiyor.Yani bizden 5'in 3'lü kombinasyonu istenmiş 5'yi 3 kez aç 3'üde 3 kez deniliyor. Yani:\n",
        "C(5,3)= 5!/(5-3)!.3! ifadesini soruyor\n",
        "      =10 olur."
      ],
      "metadata": {
        "id": "DW7rNbHnuEr5"
      }
    },
    {
      "cell_type": "code",
      "source": [
        "def faktoriyelHesapla(i):\n",
        "    \n",
        "    if i==1:       \n",
        "        return 1\n",
        "    \n",
        "    else: \n",
        "        return i * faktoriyelHesapla(i-1)\n",
        "    \n",
        "def kombinasyonHesapla(j,k):\n",
        "    \n",
        "    if (j<k):\n",
        "        print(\"1. Sayının 2. Sayıdan büyük yada eşit olması gerekli. Verdiğiniz sayıların çözümü yoktur!\")\n",
        "   \n",
        "    elif(j==k):\n",
        "        print(\"1\")\n",
        "    \n",
        "    elif(j>k):\n",
        "        \n",
        "        s=1\n",
        "        s= faktoriyelHesapla(j) #n faktöriyel\n",
        "        \n",
        "        l=1\n",
        "        l= faktoriyelHesapla(k) #m faktöriyel\n",
        "        \n",
        "        f=1\n",
        "        f= faktoriyelHesapla(j-k) #n-m faktöriyel\n",
        "        \n",
        "        w=s/(l*f)\n",
        "        return w\n",
        "    \n",
        "    \n",
        "print(\"Kombinasyon hesabı için lütfen sayıları giriniz.\")   \n",
        "\n",
        "sayi1 = int(input(\"1. Sayı Giriniz: \"))\n",
        "\n",
        "sayi2 = int(input(\"2. Sayı Giriniz: \")) \n",
        "\n",
        "print(\"Sonuç:\",kombinasyonHesapla(sayi1,sayi2) )"
      ],
      "metadata": {
        "colab": {
          "base_uri": "https://localhost:8080/"
        },
        "id": "oE8bpYPrz9GL",
        "outputId": "1e286887-123e-4695-8c0c-ef314cbff8ef"
      },
      "execution_count": 3,
      "outputs": [
        {
          "output_type": "stream",
          "name": "stdout",
          "text": [
            "Kombinasyon hesabı için lütfen sayıları giriniz.\n",
            "1. Sayı Giriniz: 5\n",
            "2. Sayı Giriniz: 3\n",
            "Sonuç: 10.0\n"
          ]
        }
      ]
    }
  ]
}