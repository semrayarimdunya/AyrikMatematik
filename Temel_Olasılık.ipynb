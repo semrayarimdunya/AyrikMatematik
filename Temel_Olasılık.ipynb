{
  "nbformat": 4,
  "nbformat_minor": 0,
  "metadata": {
    "colab": {
      "provenance": [],
      "authorship_tag": "ABX9TyOuK/qqdt/X7dhoFrYCTi48",
      "include_colab_link": true
    },
    "kernelspec": {
      "name": "python3",
      "display_name": "Python 3"
    },
    "language_info": {
      "name": "python"
    }
  },
  "cells": [
    {
      "cell_type": "markdown",
      "metadata": {
        "id": "view-in-github",
        "colab_type": "text"
      },
      "source": [
        "<a href=\"https://colab.research.google.com/github/semrayarimdunya/AyrikMatematik/blob/main/Temel_Olas%C4%B1l%C4%B1k.ipynb\" target=\"_parent\"><img src=\"https://colab.research.google.com/assets/colab-badge.svg\" alt=\"Open In Colab\"/></a>"
      ]
    },
    {
      "cell_type": "markdown",
      "source": [
        "TEMEL OLASILIK ÖDEVİ\n",
        "\n",
        "SORU_1:\n",
        "Ömer ile Doğan bir zarı 4 gelene kadar sırasıyla atıyor ve 4 gelen oyunu kazanıyor.Zarı atmaya Doğan başlıyor.Ömer'in kazanma olasılığının Doğan'ın kazanma olasılığından düşük olduğunu hesaplayın."
      ],
      "metadata": {
        "id": "4a5DYDogvCYZ"
      }
    },
    {
      "cell_type": "markdown",
      "source": [
        "ÇÖZÜM :\n",
        "Bir zarı iki kişinin 1000 defa tekrar ederek 4 gelme olasılığını hesaplayacak aynı zamanda ilk 4 atan kişinin kim olduğunu bulan olasılık hesabını yapacağız.\n",
        "\n",
        "1000 deneme olsun dediğimiz için ; **range(1000)** kullandık \n",
        "\n",
        "Zarın 6 yüzü olduğundan ; **zar=randint(1 , 6)**\n",
        "\n",
        "4 atanın kim olduğunu bulmak için ; ilk zarı atan  Doğan ikinci atan Ömer olduğundan bunu mod işleminden yaptık.\n",
        "\n",
        "**if k%2==0** ise Doğan için değer 1 artacak\n",
        "\n",
        "**if k%2==1** ise Ömer  için değer 1 artacak\n",
        "\n",
        "Sonucunda ise iki arkadaş için artan değerlerin 1000  deneme sonundaki olasılığını bulmuş olacağız\n"
      ],
      "metadata": {
        "id": "qdYFAHAgyqg5"
      }
    },
    {
      "cell_type": "code",
      "source": [
        "from random import randint\n",
        "\n",
        "omer,dogan = 0, 0\n",
        " \n",
        "for i in range(1000):\n",
        "    k=0\n",
        "    while True:\n",
        "        zar= randint(1 ,6)\n",
        "        if  zar ==4:\n",
        "             if k % 2 ==0:\n",
        "                 dogan+= 1\n",
        "             elif k % 2==1:\n",
        "                 omer+=1\n",
        "             break\n",
        "        k+=1 \n",
        "\n",
        "\n",
        "print(\"Ömer: \",100 * omer / 1000, \"Doğan: \", 100 * dogan /1000)"
      ],
      "metadata": {
        "colab": {
          "base_uri": "https://localhost:8080/"
        },
        "id": "fUGGVNTQzHLa",
        "outputId": "3d692a33-0afb-463e-bf0e-0d814f5940ce"
      },
      "execution_count": 5,
      "outputs": [
        {
          "output_type": "stream",
          "name": "stdout",
          "text": [
            "Ömer:  45.4 Doğan:  54.6\n"
          ]
        }
      ]
    },
    {
      "cell_type": "markdown",
      "source": [
        "SORU_2: \n",
        "Semra iki rakamlı iki farklı sayı tutuyor ve toplamlarını alıyor.Aynı işlemi arkadaşı Hilal de yapıyor.Semra'nın ve Hilal'in aynı toplamı bulma olasılığı kaçtır ?"
      ],
      "metadata": {
        "id": "8a39nZJG4Zxe"
      }
    },
    {
      "cell_type": "markdown",
      "source": [
        "ÇÖZÜM_2:\n",
        "Bu işlemi 1000 defa tekrarladığımızı varsayalım.\n",
        "Semra ve Hilal için ikişer tane iki basamaklı sayı tanımladık bu yüzden \n",
        "**randint(10,99)** aralığını seçtik.\n",
        "Toplamlarını alıp karşılaştırdık, aynı ise olasılık değerini 1000 tekrar sonucunda hesaplamış olduk."
      ],
      "metadata": {
        "id": "w4-cZCxr4cD4"
      }
    },
    {
      "cell_type": "code",
      "source": [
        "from random import randint\n",
        "count =0\n",
        "for i in range (1000):\n",
        "      a1= randint(10 , 99)\n",
        "      a2= randint(10 , 99)\n",
        "      t1=a1 +  a2\n",
        "      b1= randint(10 , 99)\n",
        "      b2= randint(10 , 99)\n",
        "      t2=b1 + b2\n",
        "      if t1 ==t2:\n",
        "           count+= 1\n",
        "\n",
        "print(\"Olasılık: \" , 100 * count / 1000)"
      ],
      "metadata": {
        "colab": {
          "base_uri": "https://localhost:8080/"
        },
        "id": "Qmi0lFP64moo",
        "outputId": "f4e1155a-a28e-477c-dc79-eb2456f0407a"
      },
      "execution_count": 26,
      "outputs": [
        {
          "output_type": "stream",
          "name": "stdout",
          "text": [
            "Olasılık:  0.5\n"
          ]
        }
      ]
    }
  ]
}