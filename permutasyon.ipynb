{
    "cells": [
    {
        "attachments": {},
        "cell_type": "markdown",
        "metadata": {},
        "source": [
         "### Permütasyon Örneği\n",
         "\n",
         "\n"
        ]
       }
    ,
 
  {
   "attachments": {},
   "cell_type": "markdown",
   "metadata": {},
   "source": [
    "Soru: Permütasyon nesnelerin diziliş sayısını bulmamızı sağlar. 6 arkadaştan 4’ü masaya oturucaktır. Bu 4 kişi kaç farklı şekilde masaya oturabilir sorusuna çözüm bulmak için permütasyon kullanırız. Aldığı sayılara göre permütasyon hesabı yapan kodu yazınız."
   ]
  },
  {
   "cell_type": "code",
   "execution_count": 1,
   "metadata": {},
   "outputs": [
    {
     "name": "stdout",
     "output_type": "stream",
     "text": [
      "Permütasyon hesabı için lütfen sayıları giriniz.\n",
      "Sonuç: 360.0\n"
     ]
    }
   ],
   "source": [
    "def faktoriyelHesapla(i):\n",
    "    \n",
    "    if i==1:       \n",
    "        return 1\n",
    "    \n",
    "    else: \n",
    "        return i * faktoriyelHesapla(i-1)\n",
    "    \n",
    "def permutasyonHesapla(j,k):\n",
    "    \n",
    "    l = 0\n",
    "    \n",
    "    if k>j:        \n",
    "        l = l\n",
    "        \n",
    "    else:      \n",
    "        l = faktoriyelHesapla(j)/faktoriyelHesapla(j-k)\n",
    "        return l\n",
    "    \n",
    "print(\"Permütasyon hesabı için lütfen sayıları giriniz.\")   \n",
    "\n",
    "sayi1 = int(input(\"1. Sayı Giriniz: \"))\n",
    "\n",
    "sayi2 = int(input(\"2. Sayı Giriniz: \")) \n",
    "\n",
    "print(\"Sonuç:\", permutasyonHesapla(sayi1,sayi2) )"
   ]
  },
  {
   "cell_type": "markdown",
   "metadata": {},
   "source": []
  },
  {
   "attachments": {},
   "cell_type": "markdown",
   "metadata": {},
   "source": [
    "### Kombinasyon Örneği\n",
    "\n",
    "\n"
   ]
  },
  {
   "attachments": {},
   "cell_type": "markdown",
   "metadata": {},
   "source": [
    "5 elemanlı olan kümede 3 elemanlı kombinasyon kaç olur?"
   ]
  },
  {
   "cell_type": "code",
   "execution_count": 2,
   "metadata": {},
   "outputs": [
    {
     "name": "stdout",
     "output_type": "stream",
     "text": [
      "Kombinasyon hesabı için lütfen sayıları giriniz.\n",
      "Sonuç: 10.0\n"
     ]
    }
   ],
   "source": [
    "def faktoriyelHesapla(i):\n",
    "    \n",
    "    if i==1:       \n",
    "        return 1\n",
    "    \n",
    "    else: \n",
    "        return i * faktoriyelHesapla(i-1)\n",
    "    \n",
    "def kombinasyonHesapla(j,k):\n",
    "    \n",
    "    if (j<k):\n",
    "        print(\"1. Sayının 2. Sayıdan büyük yada eşit olması gerekli. Verdiğiniz sayıların çözümü yoktur!\")\n",
    "   \n",
    "    elif(j==k):\n",
    "        print(\"1\")\n",
    "    \n",
    "    elif(j>k):\n",
    "        \n",
    "        s=1\n",
    "        s= faktoriyelHesapla(j) #n faktöriyel\n",
    "        \n",
    "        l=1\n",
    "        l= faktoriyelHesapla(k) #m faktöriyel\n",
    "        \n",
    "        f=1\n",
    "        f= faktoriyelHesapla(j-k) #n-m faktöriyel\n",
    "        \n",
    "        w=s/(l*f)\n",
    "        return w\n",
    "    \n",
    "    \n",
    "print(\"Kombinasyon hesabı için lütfen sayıları giriniz.\")   \n",
    "\n",
    "sayi1 = int(input(\"1. Sayı Giriniz: \"))\n",
    "\n",
    "sayi2 = int(input(\"2. Sayı Giriniz: \")) \n",
    "\n",
    "print(\"Sonuç:\",kombinasyonHesapla(sayi1,sayi2) )"
   ]
  }
 ],
 "metadata": {
  "kernelspec": {
   "display_name": "Python 3",
   "language": "python",
   "name": "python3"
  },
  "language_info": {
   "codemirror_mode": {
    "name": "ipython",
    "version": 3
   },
   "file_extension": ".py",
   "mimetype": "text/x-python",
   "name": "python",
   "nbconvert_exporter": "python",
   "pygments_lexer": "ipython3",
   "version": "3.10.4"
  },
  "orig_nbformat": 4
 },
 "nbformat": 4,
 "nbformat_minor": 2
}
