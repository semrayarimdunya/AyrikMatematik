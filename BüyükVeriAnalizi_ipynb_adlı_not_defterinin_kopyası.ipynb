{
  "nbformat": 4,
  "nbformat_minor": 0,
  "metadata": {
    "colab": {
      "provenance": [],
      "mount_file_id": "1b4vDPGYNkGYz7Oz2eLneXfDNLbNeaFIz",
      "authorship_tag": "ABX9TyNAK4ILWkle7md+gU6nqoP/",
      "include_colab_link": true
    },
    "kernelspec": {
      "name": "python3",
      "display_name": "Python 3"
    },
    "language_info": {
      "name": "python"
    }
  },
  "cells": [
    {
      "cell_type": "markdown",
      "metadata": {
        "id": "view-in-github",
        "colab_type": "text"
      },
      "source": [
        "<a href=\"https://colab.research.google.com/github/semrayarimdunya/AyrikMatematik/blob/main/B%C3%BCy%C3%BCkVeriAnalizi_ipynb_adl%C4%B1_not_defterinin_kopyas%C4%B1.ipynb\" target=\"_parent\"><img src=\"https://colab.research.google.com/assets/colab-badge.svg\" alt=\"Open In Colab\"/></a>"
      ]
    },
    {
      "cell_type": "code",
      "execution_count": 4,
      "metadata": {
        "colab": {
          "base_uri": "https://localhost:8080/"
        },
        "id": "3i1QdaDWl6BJ",
        "outputId": "047a9b08-35f4-498f-ae97-c12f5d8ce779"
      },
      "outputs": [
        {
          "output_type": "stream",
          "name": "stdout",
          "text": [
            "\r0% [Working]\r            \rGet:1 https://cloud.r-project.org/bin/linux/ubuntu jammy-cran40/ InRelease [3,626 B]\n",
            "Hit:2 https://developer.download.nvidia.com/compute/cuda/repos/ubuntu2204/x86_64  InRelease\n",
            "Hit:3 http://archive.ubuntu.com/ubuntu jammy InRelease\n",
            "Get:4 http://archive.ubuntu.com/ubuntu jammy-updates InRelease [119 kB]\n",
            "Get:5 http://security.ubuntu.com/ubuntu jammy-security InRelease [110 kB]\n",
            "Hit:6 https://ppa.launchpadcontent.net/c2d4u.team/c2d4u4.0+/ubuntu jammy InRelease\n",
            "Hit:7 https://ppa.launchpadcontent.net/deadsnakes/ppa/ubuntu jammy InRelease\n",
            "Hit:8 http://archive.ubuntu.com/ubuntu jammy-backports InRelease\n",
            "Hit:9 https://ppa.launchpadcontent.net/graphics-drivers/ppa/ubuntu jammy InRelease\n",
            "Get:10 http://archive.ubuntu.com/ubuntu jammy-updates/universe amd64 Packages [1,307 kB]\n",
            "Hit:11 https://ppa.launchpadcontent.net/ubuntugis/ppa/ubuntu jammy InRelease\n",
            "Get:12 http://security.ubuntu.com/ubuntu jammy-security/restricted amd64 Packages [1,582 kB]\n",
            "Get:13 http://archive.ubuntu.com/ubuntu jammy-updates/restricted amd64 Packages [1,611 kB]\n",
            "Get:14 http://security.ubuntu.com/ubuntu jammy-security/universe amd64 Packages [1,047 kB]\n",
            "Get:15 http://archive.ubuntu.com/ubuntu jammy-updates/main amd64 Packages [1,606 kB]\n",
            "Get:16 http://security.ubuntu.com/ubuntu jammy-security/main amd64 Packages [1,332 kB]\n",
            "Fetched 8,718 kB in 4s (2,457 kB/s)\n",
            "Reading package lists... Done\n",
            "update-alternatives: using /usr/lib/jvm/java-8-openjdk-amd64/jre/bin/java to provide /usr/bin/java (java) in manual mode\n",
            "openjdk version \"1.8.0_392\"\n",
            "OpenJDK Runtime Environment (build 1.8.0_392-8u392-ga-1~22.04-b08)\n",
            "OpenJDK 64-Bit Server VM (build 25.392-b08, mixed mode)\n",
            "Collecting pyspark\n",
            "  Downloading pyspark-3.5.0.tar.gz (316.9 MB)\n",
            "\u001b[2K     \u001b[90m━━━━━━━━━━━━━━━━━━━━━━━━━━━━━━━━━━━━━━━━\u001b[0m \u001b[32m316.9/316.9 MB\u001b[0m \u001b[31m4.6 MB/s\u001b[0m eta \u001b[36m0:00:00\u001b[0m\n",
            "\u001b[?25h  Preparing metadata (setup.py) ... \u001b[?25l\u001b[?25hdone\n",
            "Requirement already satisfied: py4j==0.10.9.7 in /usr/local/lib/python3.10/dist-packages (from pyspark) (0.10.9.7)\n",
            "Building wheels for collected packages: pyspark\n",
            "  Building wheel for pyspark (setup.py) ... \u001b[?25l\u001b[?25hdone\n",
            "  Created wheel for pyspark: filename=pyspark-3.5.0-py2.py3-none-any.whl size=317425345 sha256=78eebce6d67440d0e07a4fdc6fddf3298faf14cf66d8c0c6a708e47ef9b9682a\n",
            "  Stored in directory: /root/.cache/pip/wheels/41/4e/10/c2cf2467f71c678cfc8a6b9ac9241e5e44a01940da8fbb17fc\n",
            "Successfully built pyspark\n",
            "Installing collected packages: pyspark\n",
            "Successfully installed pyspark-3.5.0\n"
          ]
        }
      ],
      "source": [
        "!apt-get update\n",
        "!apt-get install openjdk-8-jdk-headless -qq > /dev/null\n",
        "import os\n",
        "os.environ[\"JAVA HOME\"] = \"/usr/lib/jvm/java-8-openjdk-amd64\"\n",
        "!update-alternatives --set java /usr/lib/jvm/java-8-openjdk-amd64/jre/bin/java\n",
        "!java -version\n",
        "!pip install pyspark\n",
        "\n"
      ]
    },
    {
      "cell_type": "markdown",
      "source": [
        "javayı **kurduk** ve\n",
        "\"JAVA HOME\" **set** ettik"
      ],
      "metadata": {
        "id": "El7IZHqLdDcO"
      }
    },
    {
      "cell_type": "code",
      "source": [
        "from pyspark import SparkContext\n",
        "sc = SparkContext.getOrCreate()\n",
        "sc\n"
      ],
      "metadata": {
        "colab": {
          "base_uri": "https://localhost:8080/",
          "height": 196
        },
        "id": "eG5aLz4mcY-I",
        "outputId": "eb125cd1-b78e-42bd-d5a3-06709ac67407"
      },
      "execution_count": 5,
      "outputs": [
        {
          "output_type": "execute_result",
          "data": {
            "text/plain": [
              "<SparkContext master=local[*] appName=pyspark-shell>"
            ],
            "text/html": [
              "\n",
              "        <div>\n",
              "            <p><b>SparkContext</b></p>\n",
              "\n",
              "            <p><a href=\"http://5aa61817e748:4040\">Spark UI</a></p>\n",
              "\n",
              "            <dl>\n",
              "              <dt>Version</dt>\n",
              "                <dd><code>v3.5.0</code></dd>\n",
              "              <dt>Master</dt>\n",
              "                <dd><code>local[*]</code></dd>\n",
              "              <dt>AppName</dt>\n",
              "                <dd><code>pyspark-shell</code></dd>\n",
              "            </dl>\n",
              "        </div>\n",
              "        "
            ]
          },
          "metadata": {},
          "execution_count": 5
        }
      ]
    },
    {
      "cell_type": "markdown",
      "source": [
        "sparkın kurulup kurulmadığını test ettik"
      ],
      "metadata": {
        "id": "hn9016b8dcrm"
      }
    },
    {
      "cell_type": "code",
      "source": [
        "from pyspark.sql import SparkSession\n",
        "from pyspark .ml.feature import VectorAssembler , StringIndexer\n",
        "from pyspark.ml.classification import DecisionTreeClassifier,GBTClassifier\n",
        "from pyspark.ml.evaluation import MulticlassClassificationEvaluator\n",
        "\n",
        "spark = SparkSession.builder.appName(\"Spark ML\").getOrCreate()\n",
        "\n",
        "housepriceDF =spark.read.option(\"inferSchema\",\"true\").option(\"header\", \"true\").csv(\"/content/drive/MyDrive/Colab Notebooks/BüyükVeriAnalizi/california_housing_train.csv\")\n",
        "housepriceDF.show(20)\n",
        "\n",
        "vec = VectorAssembler(inputCols=[\"longitude\", \"latitude\",\"housing_median_age\",\n",
        "                                 \"total_rooms\",\"total_bedrooms\", \"population\", \"households\",\"median_income\"],\n",
        "                      outputCol=\"features\")\n",
        "housepriceDF = vec.transform(housepriceDF)\n",
        "housepriceDF.show()\n",
        "\n",
        "indexer = StringIndexer(inputCol=\"median_house_value\",\n",
        "                        outputCol =\"label\")\n",
        "\n",
        "housepriceDF = indexer.fit(housepriceDF).transform(housepriceDF)\n",
        "\n",
        "housepriceDF   =housepriceDF.select(\"features\" , \"label\")\n",
        "housepriceDF.show(20)\n",
        "\n",
        "classifier=DecisionTreeClassifier()\n",
        "#makine öğrenmesi yapılıyor\n",
        "\n",
        "trainDF ,testDF =housepriceDF.randomSplit([0.80 , 0.20])\n",
        "\n",
        "model =classifier.fit(trainDF)\n",
        "print(\"Makine öğrenmesi tamamlandı\")\n",
        "print(model.toDebugString)\n",
        "\n",
        "\n",
        "resultDF =model.transform(testDF)\n",
        "resultDF.show(20)\n",
        "#model başarısını görmek için\n",
        "\n",
        "eva =MulticlassClassificationEvaluator()\n",
        "basari= eva.evaluate(resultDF)\n",
        "print(\"Başarı oranımız: \",basari)\n",
        "\n"
      ],
      "metadata": {
        "colab": {
          "base_uri": "https://localhost:8080/"
        },
        "id": "byI8_46Bf0pX",
        "outputId": "f2682374-1e36-420b-d7c0-ab4a95008abb"
      },
      "execution_count": 8,
      "outputs": [
        {
          "output_type": "stream",
          "name": "stdout",
          "text": [
            "+---------+--------+------------------+-----------+--------------+----------+----------+-------------+------------------+\n",
            "|longitude|latitude|housing_median_age|total_rooms|total_bedrooms|population|households|median_income|median_house_value|\n",
            "+---------+--------+------------------+-----------+--------------+----------+----------+-------------+------------------+\n",
            "|  -114.31|   34.19|              15.0|     5612.0|        1283.0|    1015.0|     472.0|       1.4936|           66900.0|\n",
            "|  -114.47|    34.4|              19.0|     7650.0|        1901.0|    1129.0|     463.0|         1.82|           80100.0|\n",
            "|  -114.56|   33.69|              17.0|      720.0|         174.0|     333.0|     117.0|       1.6509|           85700.0|\n",
            "|  -114.57|   33.64|              14.0|     1501.0|         337.0|     515.0|     226.0|       3.1917|           73400.0|\n",
            "|  -114.57|   33.57|              20.0|     1454.0|         326.0|     624.0|     262.0|        1.925|           65500.0|\n",
            "|  -114.58|   33.63|              29.0|     1387.0|         236.0|     671.0|     239.0|       3.3438|           74000.0|\n",
            "|  -114.58|   33.61|              25.0|     2907.0|         680.0|    1841.0|     633.0|       2.6768|           82400.0|\n",
            "|  -114.59|   34.83|              41.0|      812.0|         168.0|     375.0|     158.0|       1.7083|           48500.0|\n",
            "|  -114.59|   33.61|              34.0|     4789.0|        1175.0|    3134.0|    1056.0|       2.1782|           58400.0|\n",
            "|   -114.6|   34.83|              46.0|     1497.0|         309.0|     787.0|     271.0|       2.1908|           48100.0|\n",
            "|   -114.6|   33.62|              16.0|     3741.0|         801.0|    2434.0|     824.0|       2.6797|           86500.0|\n",
            "|   -114.6|    33.6|              21.0|     1988.0|         483.0|    1182.0|     437.0|        1.625|           62000.0|\n",
            "|  -114.61|   34.84|              48.0|     1291.0|         248.0|     580.0|     211.0|       2.1571|           48600.0|\n",
            "|  -114.61|   34.83|              31.0|     2478.0|         464.0|    1346.0|     479.0|        3.212|           70400.0|\n",
            "|  -114.63|   32.76|              15.0|     1448.0|         378.0|     949.0|     300.0|       0.8585|           45000.0|\n",
            "|  -114.65|   34.89|              17.0|     2556.0|         587.0|    1005.0|     401.0|       1.6991|           69100.0|\n",
            "|  -114.65|    33.6|              28.0|     1678.0|         322.0|     666.0|     256.0|       2.9653|           94900.0|\n",
            "|  -114.65|   32.79|              21.0|       44.0|          33.0|      64.0|      27.0|       0.8571|           25000.0|\n",
            "|  -114.66|   32.74|              17.0|     1388.0|         386.0|     775.0|     320.0|       1.2049|           44000.0|\n",
            "|  -114.67|   33.92|              17.0|       97.0|          24.0|      29.0|      15.0|       1.2656|           27500.0|\n",
            "+---------+--------+------------------+-----------+--------------+----------+----------+-------------+------------------+\n",
            "only showing top 20 rows\n",
            "\n",
            "+---------+--------+------------------+-----------+--------------+----------+----------+-------------+------------------+--------------------+\n",
            "|longitude|latitude|housing_median_age|total_rooms|total_bedrooms|population|households|median_income|median_house_value|            features|\n",
            "+---------+--------+------------------+-----------+--------------+----------+----------+-------------+------------------+--------------------+\n",
            "|  -114.31|   34.19|              15.0|     5612.0|        1283.0|    1015.0|     472.0|       1.4936|           66900.0|[-114.31,34.19,15...|\n",
            "|  -114.47|    34.4|              19.0|     7650.0|        1901.0|    1129.0|     463.0|         1.82|           80100.0|[-114.47,34.4,19....|\n",
            "|  -114.56|   33.69|              17.0|      720.0|         174.0|     333.0|     117.0|       1.6509|           85700.0|[-114.56,33.69,17...|\n",
            "|  -114.57|   33.64|              14.0|     1501.0|         337.0|     515.0|     226.0|       3.1917|           73400.0|[-114.57,33.64,14...|\n",
            "|  -114.57|   33.57|              20.0|     1454.0|         326.0|     624.0|     262.0|        1.925|           65500.0|[-114.57,33.57,20...|\n",
            "|  -114.58|   33.63|              29.0|     1387.0|         236.0|     671.0|     239.0|       3.3438|           74000.0|[-114.58,33.63,29...|\n",
            "|  -114.58|   33.61|              25.0|     2907.0|         680.0|    1841.0|     633.0|       2.6768|           82400.0|[-114.58,33.61,25...|\n",
            "|  -114.59|   34.83|              41.0|      812.0|         168.0|     375.0|     158.0|       1.7083|           48500.0|[-114.59,34.83,41...|\n",
            "|  -114.59|   33.61|              34.0|     4789.0|        1175.0|    3134.0|    1056.0|       2.1782|           58400.0|[-114.59,33.61,34...|\n",
            "|   -114.6|   34.83|              46.0|     1497.0|         309.0|     787.0|     271.0|       2.1908|           48100.0|[-114.6,34.83,46....|\n",
            "|   -114.6|   33.62|              16.0|     3741.0|         801.0|    2434.0|     824.0|       2.6797|           86500.0|[-114.6,33.62,16....|\n",
            "|   -114.6|    33.6|              21.0|     1988.0|         483.0|    1182.0|     437.0|        1.625|           62000.0|[-114.6,33.6,21.0...|\n",
            "|  -114.61|   34.84|              48.0|     1291.0|         248.0|     580.0|     211.0|       2.1571|           48600.0|[-114.61,34.84,48...|\n",
            "|  -114.61|   34.83|              31.0|     2478.0|         464.0|    1346.0|     479.0|        3.212|           70400.0|[-114.61,34.83,31...|\n",
            "|  -114.63|   32.76|              15.0|     1448.0|         378.0|     949.0|     300.0|       0.8585|           45000.0|[-114.63,32.76,15...|\n",
            "|  -114.65|   34.89|              17.0|     2556.0|         587.0|    1005.0|     401.0|       1.6991|           69100.0|[-114.65,34.89,17...|\n",
            "|  -114.65|    33.6|              28.0|     1678.0|         322.0|     666.0|     256.0|       2.9653|           94900.0|[-114.65,33.6,28....|\n",
            "|  -114.65|   32.79|              21.0|       44.0|          33.0|      64.0|      27.0|       0.8571|           25000.0|[-114.65,32.79,21...|\n",
            "|  -114.66|   32.74|              17.0|     1388.0|         386.0|     775.0|     320.0|       1.2049|           44000.0|[-114.66,32.74,17...|\n",
            "|  -114.67|   33.92|              17.0|       97.0|          24.0|      29.0|      15.0|       1.2656|           27500.0|[-114.67,33.92,17...|\n",
            "+---------+--------+------------------+-----------+--------------+----------+----------+-------------+------------------+--------------------+\n",
            "only showing top 20 rows\n",
            "\n",
            "+--------------------+------+\n",
            "|            features| label|\n",
            "+--------------------+------+\n",
            "|[-114.31,34.19,15...| 934.0|\n",
            "|[-114.47,34.4,19....|2267.0|\n",
            "|[-114.56,33.69,17...| 237.0|\n",
            "|[-114.57,33.64,14...| 678.0|\n",
            "|[-114.57,33.57,20...|1707.0|\n",
            "|[-114.58,33.63,29...|1720.0|\n",
            "|[-114.58,33.61,25...|2270.0|\n",
            "|[-114.59,34.83,41...|2215.0|\n",
            "|[-114.59,33.61,34...| 926.0|\n",
            "|[-114.6,34.83,46....|2214.0|\n",
            "|[-114.6,33.62,16....| 491.0|\n",
            "|[-114.6,33.6,21.0...| 228.0|\n",
            "|[-114.61,34.84,48...|2844.0|\n",
            "|[-114.61,34.83,31...| 940.0|\n",
            "|[-114.63,32.76,15...|1680.0|\n",
            "|[-114.65,34.89,17...| 671.0|\n",
            "|[-114.65,33.6,28....| 242.0|\n",
            "|[-114.65,32.79,21...|2949.0|\n",
            "|[-114.66,32.74,17...|2197.0|\n",
            "|[-114.67,33.92,17...|2978.0|\n",
            "+--------------------+------+\n",
            "only showing top 20 rows\n",
            "\n",
            "Makine öğrenmesi tamamlandı\n",
            "DecisionTreeClassificationModel: uid=DecisionTreeClassifier_a914b59ce495, depth=5, numNodes=29, numClasses=3694, numFeatures=8\n",
            "  If (feature 7 <= 8.16305)\n",
            "   If (feature 7 <= 6.26575)\n",
            "    If (feature 7 <= 3.76335)\n",
            "     If (feature 3 <= 707.5)\n",
            "      If (feature 1 <= 37.974999999999994)\n",
            "       Predict: 3.0\n",
            "      Else (feature 1 > 37.974999999999994)\n",
            "       Predict: 10.0\n",
            "     Else (feature 3 > 707.5)\n",
            "      If (feature 7 <= 2.30495)\n",
            "       Predict: 1.0\n",
            "      Else (feature 7 > 2.30495)\n",
            "       Predict: 0.0\n",
            "    Else (feature 7 > 3.76335)\n",
            "     Predict: 0.0\n",
            "   Else (feature 7 > 6.26575)\n",
            "    Predict: 0.0\n",
            "  Else (feature 7 > 8.16305)\n",
            "   If (feature 2 <= 22.5)\n",
            "    If (feature 0 <= -117.82499999999999)\n",
            "     Predict: 0.0\n",
            "    Else (feature 0 > -117.82499999999999)\n",
            "     If (feature 2 <= 16.5)\n",
            "      Predict: 0.0\n",
            "     Else (feature 2 > 16.5)\n",
            "      If (feature 0 <= -117.095)\n",
            "       Predict: 0.0\n",
            "      Else (feature 0 > -117.095)\n",
            "       Predict: 2092.0\n",
            "   Else (feature 2 > 22.5)\n",
            "    If (feature 3 <= 707.5)\n",
            "     If (feature 0 <= -118.405)\n",
            "      Predict: 0.0\n",
            "     Else (feature 0 > -118.405)\n",
            "      Predict: 3.0\n",
            "    Else (feature 3 > 707.5)\n",
            "     If (feature 1 <= 37.974999999999994)\n",
            "      Predict: 0.0\n",
            "     Else (feature 1 > 37.974999999999994)\n",
            "      If (feature 0 <= -121.465)\n",
            "       Predict: 2184.0\n",
            "      Else (feature 0 > -121.465)\n",
            "       Predict: 1584.0\n",
            "\n",
            "+--------------------+------+--------------------+--------------------+----------+\n",
            "|            features| label|       rawPrediction|         probability|prediction|\n",
            "+--------------------+------+--------------------+--------------------+----------+\n",
            "|[-124.21,41.75,20...| 934.0|[8.0,24.0,22.0,20...|[0.00358262427227...|       1.0|\n",
            "|[-124.21,41.77,17...|1711.0|[46.0,25.0,14.0,1...|[0.00951789778605...|       0.0|\n",
            "|[-124.19,40.73,21...| 957.0|[46.0,25.0,14.0,1...|[0.00951789778605...|       0.0|\n",
            "|[-124.19,40.77,30...|1278.0|[46.0,25.0,14.0,1...|[0.00951789778605...|       0.0|\n",
            "|[-124.19,40.78,37...| 231.0|[8.0,24.0,22.0,20...|[0.00358262427227...|       1.0|\n",
            "|[-124.18,40.62,35...| 715.0|[46.0,25.0,14.0,1...|[0.00951789778605...|       0.0|\n",
            "|[-124.18,40.78,34...| 337.0|[8.0,24.0,22.0,20...|[0.00358262427227...|       1.0|\n",
            "|[-124.17,40.76,26...| 235.0|[46.0,25.0,14.0,1...|[0.00951789778605...|       0.0|\n",
            "|[-124.17,40.77,30...|  26.0|[8.0,24.0,22.0,20...|[0.00358262427227...|       1.0|\n",
            "|[-124.17,40.8,52....|1724.0|[8.0,24.0,22.0,20...|[0.00358262427227...|       1.0|\n",
            "|[-124.16,40.78,43...|1734.0|[46.0,25.0,14.0,1...|[0.00951789778605...|       0.0|\n",
            "|[-124.16,40.95,20...| 702.0|[46.0,25.0,14.0,1...|[0.00951789778605...|       0.0|\n",
            "|[-124.15,40.79,37...| 344.0|[46.0,25.0,14.0,1...|[0.00951789778605...|       0.0|\n",
            "|[-124.15,40.8,47....| 679.0|[8.0,24.0,22.0,20...|[0.00358262427227...|       1.0|\n",
            "|[-124.15,41.81,17...|  99.0|[8.0,24.0,22.0,20...|[0.00358262427227...|       1.0|\n",
            "|[-124.14,40.58,25...| 175.0|[46.0,25.0,14.0,1...|[0.00951789778605...|       0.0|\n",
            "|[-124.14,40.67,23...|  76.0|[165.0,9.0,15.0,4...|[0.03534704370179...|       0.0|\n",
            "|[-124.14,40.78,35...| 136.0|[46.0,25.0,14.0,1...|[0.00951789778605...|       0.0|\n",
            "|[-124.14,40.79,38...|1733.0|[46.0,25.0,14.0,1...|[0.00951789778605...|       0.0|\n",
            "|[-124.13,40.79,29...|1300.0|[46.0,25.0,14.0,1...|[0.00951789778605...|       0.0|\n",
            "+--------------------+------+--------------------+--------------------+----------+\n",
            "only showing top 20 rows\n",
            "\n",
            "Başarı oranımız:  0.004538242281013937\n"
          ]
        }
      ]
    },
    {
      "cell_type": "markdown",
      "source": [
        "**sparKSession** ı spark veritabanından import ettik\n",
        "\n",
        "Daha sonra ML kütüphanesinden **VectorAssembler** ı import ettik.VectorAssembler ile giriş kolonlarını birleştirip tek kolon halinde çıktı verdik vec objesine atayarak yeni bir kolon oluşturduk.\n",
        "\n",
        "**spark.read** ile dosyayı okuduk ,\n",
        "\n",
        "**option(\"inferSchema\",\"true\")** ile stringleri int olarak algılamasını sağladık,\n",
        "\n",
        "**option(\"header\", \"true\")** ile dosydaki başlıkları dosya verisi olarak algılamasın başlık olarak alsın diye ekledik.\n",
        "\n",
        "**vec.transform** ile veri dönüşümü yaptık.\n",
        "\n",
        "**show()** ile dosyayı gösterdik"
      ],
      "metadata": {
        "id": "SZg194u-87FC"
      }
    },
    {
      "cell_type": "code",
      "source": [
        "\n",
        "import seaborn as sb\n",
        "import seaborn as sns\n",
        "\n",
        "kor_data=housepriceDF.drop(\"longitude\",\"latitude\",\"housing_median_age\",\"total_rooms\" \"total_bedrooms\").toPandas()\n",
        "sb.pairplot(kor_data)\n",
        "\n",
        "sb.jointplot(x = 'housing_median_age', y = 'label', data = kor_data)\n",
        "\n",
        "result_df = kor_data.groupBy(\"housing_median_age\").count().sort(\"housing_median_age\", ascending=False)\n",
        "result_df.show(10)\n"
      ],
      "metadata": {
        "colab": {
          "base_uri": "https://localhost:8080/",
          "height": 245
        },
        "id": "BO1VPaqaQbGR",
        "outputId": "74ec3279-984c-4d85-db9f-8b8a5035abe8"
      },
      "execution_count": null,
      "outputs": [
        {
          "output_type": "error",
          "ename": "NameError",
          "evalue": "name 'housepriceDF' is not defined",
          "traceback": [
            "\u001b[0;31m---------------------------------------------------------------------------\u001b[0m",
            "\u001b[0;31mNameError\u001b[0m                                 Traceback (most recent call last)",
            "\u001b[0;32m<ipython-input-18-f91e586c14d8>\u001b[0m in \u001b[0;36m<cell line: 4>\u001b[0;34m()\u001b[0m\n\u001b[1;32m      2\u001b[0m \u001b[0;32mimport\u001b[0m \u001b[0mseaborn\u001b[0m \u001b[0;32mas\u001b[0m \u001b[0msns\u001b[0m\u001b[0;34m\u001b[0m\u001b[0;34m\u001b[0m\u001b[0m\n\u001b[1;32m      3\u001b[0m \u001b[0;34m\u001b[0m\u001b[0m\n\u001b[0;32m----> 4\u001b[0;31m \u001b[0mkor_data\u001b[0m\u001b[0;34m=\u001b[0m\u001b[0mhousepriceDF\u001b[0m\u001b[0;34m.\u001b[0m\u001b[0mdrop\u001b[0m\u001b[0;34m(\u001b[0m\u001b[0;34m\"longitude\"\u001b[0m\u001b[0;34m,\u001b[0m\u001b[0;34m\"latitude\"\u001b[0m\u001b[0;34m,\u001b[0m\u001b[0;34m\"housing_median_age\"\u001b[0m\u001b[0;34m,\u001b[0m\u001b[0;34m\"total_rooms\"\u001b[0m \u001b[0;34m\"total_bedrooms\"\u001b[0m\u001b[0;34m)\u001b[0m\u001b[0;34m.\u001b[0m\u001b[0mtoPandas\u001b[0m\u001b[0;34m(\u001b[0m\u001b[0;34m)\u001b[0m\u001b[0;34m\u001b[0m\u001b[0;34m\u001b[0m\u001b[0m\n\u001b[0m\u001b[1;32m      5\u001b[0m \u001b[0msb\u001b[0m\u001b[0;34m.\u001b[0m\u001b[0mpairplot\u001b[0m\u001b[0;34m(\u001b[0m\u001b[0mkor_data\u001b[0m\u001b[0;34m)\u001b[0m\u001b[0;34m\u001b[0m\u001b[0;34m\u001b[0m\u001b[0m\n\u001b[1;32m      6\u001b[0m \u001b[0msb\u001b[0m\u001b[0;34m.\u001b[0m\u001b[0mjointplot\u001b[0m\u001b[0;34m(\u001b[0m\u001b[0mx\u001b[0m \u001b[0;34m=\u001b[0m \u001b[0;34m'housing_median_age'\u001b[0m\u001b[0;34m,\u001b[0m \u001b[0my\u001b[0m \u001b[0;34m=\u001b[0m \u001b[0;34m'label'\u001b[0m\u001b[0;34m,\u001b[0m \u001b[0mdata\u001b[0m \u001b[0;34m=\u001b[0m \u001b[0mkor_data\u001b[0m\u001b[0;34m)\u001b[0m\u001b[0;34m\u001b[0m\u001b[0;34m\u001b[0m\u001b[0m\n",
            "\u001b[0;31mNameError\u001b[0m: name 'housepriceDF' is not defined"
          ]
        }
      ]
    },
    {
      "cell_type": "markdown",
      "source": [
        "# Yeni Bölüm"
      ],
      "metadata": {
        "id": "OmRTt7cY2n1i"
      }
    }
  ]
}