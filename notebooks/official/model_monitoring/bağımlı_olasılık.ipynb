{
  "cells": [
    {
      "cell_type": "markdown",
      "metadata": {
        "id": "view-in-github",
        "colab_type": "text"
      },
      "source": [
        "<a href=\"https://colab.research.google.com/github/semrayarimdunya/AyrikMatematik/blob/main/notebooks/official/model_monitoring/ba%C4%9F%C4%B1ml%C4%B1_olas%C4%B1l%C4%B1k.ipynb\" target=\"_parent\"><img src=\"https://colab.research.google.com/assets/colab-badge.svg\" alt=\"Open In Colab\"/></a>"
      ]
    },
    {
      "cell_type": "markdown",
      "source": [
        "![WhatsApp Image 2023-04-22 at 20.15.01.jpeg](data:image/jpeg;base64,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)\n",
        "\n",
        "**SORU**:\n",
        "\n",
        "Yukarıdaki A kutusunun içinde 4 mavi ve 5 kırmızı,B kutusunun içinde ise 2 mavi ve 5 kırmızı top vardır.İlk önce B kutusundan bir top seçilip A kutusuna atılıyor.Sonra A kutusundan bir top seçilip B kutusuna atılıyor.Buna göre başlangıçtaki durumdan farklı bir renk dağılımının gerçekleşme olasılığı nedir?\n"
      ],
      "metadata": {
        "id": "D2kZ2-Ak6vbW"
      }
    },
    {
      "cell_type": "markdown",
      "source": [
        "**ÇÖZÜM:**\n",
        "\n",
        "Başlangıçtan farklı bir renk dağılımının olması için B kutusundan seçilen renk ile A kutusundan seçilen renk tezat olmak zorundadır.\n",
        "\n",
        "Bu durumda iki olasılık durumu mevcuttur:\n",
        "\n",
        "**1-A kutusundan Kırmızı renk top seçilirse B kutusundan mavi renk seçilmeli;**\n",
        "\n",
        "B kutusundan Kırmızı secilme olasılığı:\n",
        "\n",
        "PK=B_kirmizi/(B_kirmizi+B_mavi)=5/7\n",
        "\n",
        "A kutusundan mavi top seçilme olasılığı:\n",
        "\n",
        "PM=A_mavi/(A_mavi+A_kirmizi)=4/10(başlangıçta 9du 1 tane B kutusundan geldi)\n",
        "\n",
        "**2-A kutusundan mavi renk top seçilirse B kutusundan kırmızı renk seçilmeli;**\n",
        "\n",
        "B kutusundan mavi renk top seçilme olasılığı:\n",
        "\n",
        "PM2=B_mavi/(B_mavi+B_kirmizi)=2/7\n",
        "\n",
        "A kutusundan kırmızı renk top seçilme olasılığı:\n",
        "\n",
        "PK2=A_kirmizi/(A_kirmizi+A_mavi)=5/10(başlangıçta 9du 1 tane B kutusundan geldi)\n",
        "\n",
        "Son durumda istenilen olasılık sonucu=(PK*PM)+(PK2*PM2)=(5/7*4/10)+(2/7*5/10)=0.4285\n",
        "\n",
        "\n",
        "\n",
        "\n"
      ],
      "metadata": {
        "id": "hUe_mzK0-q9K"
      }
    },
    {
      "cell_type": "code",
      "execution_count": 28,
      "metadata": {
        "id": "ur8xi4C7S06n",
        "colab": {
          "base_uri": "https://localhost:8080/"
        },
        "outputId": "a6899efd-23aa-4291-ae38-19e3f8a4fee1"
      },
      "outputs": [
        {
          "output_type": "stream",
          "name": "stdout",
          "text": [
            "Olasılık sonucu:  0.4285714285714286\n"
          ]
        }
      ],
      "source": [
        "# A kutusunun içindeki toplar\n",
        "A_mavi = 4\n",
        "A_kirmizi = 5\n",
        "# B kutusunun içindeki toplar\n",
        "B_mavi = 2\n",
        "B_kirmizi = 5\n",
        "# İki tür top seçimi mevcut.ilk secimler için yapılan tanımlamalar\n",
        "secilen_top1=B_kirmizi\n",
        "secilen_top2=A_mavi\n",
        "PM = 0 \n",
        "PK = 0 \n",
        "PM2 = 0\n",
        "PK2 = 0\n",
        "#B kutusundan kırmızı renk top seçilirse A kutusundan mavi renk seçilmeli\n",
        "if(secilen_top1==B_kirmizi and secilen_top2==A_mavi):#İlk durum için doğruluk şartı\n",
        "  PK=B_kirmizi/(B_mavi + B_kirmizi) #B kutusundan kırmızı top çekme olasılığı\n",
        "  A_kirmizi += 1        #Çekilen top A kutusuna atıldığında kırmızı top sayısı 1 artar\n",
        "  PM=A_mavi / (A_mavi +A_kirmizi) #A kutusundan mavi top çekme olasılığı\n",
        "\n",
        "#İkinci durum için top renk ve sayıları eski haline getirilir ve seçenekler için yeni tanimlamalar yapılır\n",
        "A_kirmizi -=1         \n",
        "secilen_top1=B_mavi\n",
        "secilen_top2=A_kirmizi\n",
        "\n",
        "#B kutusundan kırmızı renk top seçilirse A kutusundan mavi renk seçilmeli\n",
        "if(secilen_top1==B_mavi and secilen_top2==A_kirmizi):#İkinci durum için doğruluk şartı\n",
        "  PM2= B_mavi/(B_mavi + B_kirmizi) #B kutusundan mavi top çekme olasılığı\n",
        "  A_mavi +=1   #Çekilen top A kutusuna atıldığında mavi top sayısı 1 artar\n",
        "  PK2= A_kirmizi /(A_mavi + A_kirmizi) #A kutusundan kırmızı top çekme olasılığı\n",
        "\n",
        "sonuc = (PK*PM)+(PM2*PK2)  #İki durumun toplamı olasılık sonucunu verecektir\n",
        "print(\"Olasılık sonucu: \",sonuc)"
      ]
    },
    {
      "cell_type": "markdown",
      "metadata": {
        "id": "fsv4jGuU89rX"
      },
      "source": [
        "# Vertex AI Model Monitoring with Explainable AI Feature Attributions\n",
        "\n",
        "<table align=\"left\">\n",
        "  <td>\n",
        "    <a href=\"https://colab.research.google.com/github/GoogleCloudPlatform/vertex-ai-samples/blob/main/notebooks/official/model_monitoring/model_monitoring.ipynb\">\n",
        "      <img src=\"https://cloud.google.com/ml-engine/images/colab-logo-32px.png\" alt=\"Colab logo\"> Run in Colab\n",
        "    </a>\n",
        "  </td>\n",
        "  <td>\n",
        "    <a href=\"https://github.com/GoogleCloudPlatform/vertex-ai-samples/blob/main/notebooks/official/model_monitoring/model_monitoring.ipynb\">\n",
        "        <img src=\"https://cloud.google.com/ml-engine/images/github-logo-32px.png\" alt=\"GitHub logo\">\n",
        "      View on GitHub\n",
        "    </a>\n",
        "  </td>\n",
        "    <td>\n",
        "    <a href=\"https://console.cloud.google.com/vertex-ai/workbench/deploy-notebook?download_url=https://raw.githubusercontent.com/GoogleCloudPlatform/vertex-ai-samples/main/notebooks/official/model_monitoring/model_monitoring.ipynb\">\n",
        "       <img src=\"https://www.gstatic.com/cloud/images/navigation/vertex-ai.svg\" alt=\"Vertex AI logo\">Open in Vertex AI Workbench\n",
        "    </a>\n",
        "</table>"
      ]
    },
    {
      "cell_type": "markdown",
      "metadata": {
        "id": "lA32H1oKGgpf"
      },
      "source": [
        "## Overview\n",
        "\n",
        "### What is Vertex AI Model Monitoring?\n",
        "\n",
        "Modern applications rely on a well established set of capabilities to monitor the health of their services. Examples include:\n",
        "\n",
        "* software versioning\n",
        "* rigorous deployment processes\n",
        "* event logging\n",
        "* alerting/notication of situations requiring intervention\n",
        "* on-demand and automated diagnostic tracing\n",
        "* automated performance and functional testing\n",
        "\n",
        "You should be able to manage your ML services with the same degree of power and flexibility with which you can manage your applications. That's what MLOps is all about - managing ML services with the best practices Google and the broader computing industry have learned from generations of experience deploying well engineered, reliable, and scalable services.\n",
        "\n",
        "Model monitoring is only one piece of the ML Ops puzzle - it helps answer the following questions:\n",
        "\n",
        "* How well do recent service requests match the training data used to build your model? This is called **training-serving skew**.\n",
        "* How significantly are service requests evolving over time? This is called **drift detection**.\n",
        "\n",
        "[Vertex Explainable AI](https://cloud.google.com/vertex-ai/docs/explainable-ai/overview) adds another facet to model monitoring, which we call feature attribution monitoring. Explainable AI enables you to understand the relative contribution of each feature to a resulting prediction. In essence, it assesses the magnitude of each feature's influence.\n",
        "\n",
        "If production traffic differs from  training data, or varies substantially over time, **either in terms of model predictions or feature attributions**, that's likely to impact the quality of the answers your model produces. When that happens, you'd like to be alerted automatically and responsively, so that **you can anticipate problems before they affect your customer experiences or your revenue streams**.\n",
        "\n",
        "Learn more about [Vertex AI Model Monitoring](https://cloud.google.com/vertex-ai/docs/model-monitoring)."
      ]
    },
    {
      "cell_type": "markdown",
      "metadata": {
        "id": "t6Cd51FkG09E"
      },
      "source": [
        "### Objective\n",
        "\n",
        "In this notebook, you learn to use the `Vertex AI Model Monitoring` service to detect drift and anomalies in prediction requests from a deployed `Vertex AI Model` resource. \n",
        "\n",
        "This tutorial uses the following Google Cloud ML services:\n",
        "\n",
        "- `Vertex AI Model Monitoring`\n",
        "- `Vertex AI Prediction`\n",
        "- `Vertex AI Model` resource\n",
        "- `Vertex AI Endpoint` resource\n",
        "\n",
        "The steps performed include:\n",
        "\n",
        "- Upload a pre-trained model as a `Vertex AI Model` resource.\n",
        "- Create an `Vertex AI Endpoint` resource.\n",
        "- Deploy the `Model` resource to the `Endpoint` resource.\n",
        "- Configure the `Endpoint` resource for model monitoring.\n",
        "- Initialize the baseline distribution for model monitoring.\n",
        "- Generate synthetic prediction requests.\n",
        "- Understand how to interpret the statistics, visualizations, other data reported by the model monitoring feature."
      ]
    },
    {
      "cell_type": "markdown",
      "metadata": {
        "id": "edba71dc9840"
      },
      "source": [
        "### Model\n",
        "\n",
        "This tutorial uses a pre-trained model, where the model artifacts are stored in a public Cloud Storage bucket. The model predicts for an online gaming site, the probability that a player may churn, i.e. stop being an active player."
      ]
    },
    {
      "cell_type": "markdown",
      "metadata": {
        "id": "5abcd585354f"
      },
      "source": [
        "### Costs \n",
        "\n",
        "This tutorial uses billable components of Google Cloud:\n",
        "\n",
        "* Vertex AI\n",
        "* BigQuery\n",
        "* Cloud Storage\n",
        "\n",
        "Learn about [Vertext AI pricing](https://cloud.google.com/vertex-ai/pricing), \n",
        "[Cloud Storage pricing](https://cloud.google.com/storage/pricing), \n",
        "and [BigQuery pricing](https://cloud.google.com/bigquery/pricing)\n",
        "and use the [Pricing\n",
        "Calculator](https://cloud.google.com/products/calculator/)\n",
        "to generate a cost estimate based on your projected usage."
      ]
    },
    {
      "cell_type": "markdown",
      "metadata": {
        "id": "8yVpQt-JHKPF"
      },
      "source": [
        "## Before you begin\n",
        "\n",
        "### Set up your local development environment\n",
        "\n",
        "**If you are using Colab or Vertex AI Workbench notebooks**, your environment already meets\n",
        "all the requirements to run this notebook. You can skip this step.\n",
        "\n",
        "**Otherwise**, make sure your environment meets this notebook's requirements.\n",
        "You need the following:\n",
        "\n",
        "* The Google Cloud SDK\n",
        "* Git\n",
        "* Python 3\n",
        "* virtualenv\n",
        "* Jupyter notebook running in a virtual environment with Python 3\n",
        "\n",
        "The Google Cloud guide to [setting up a Python development\n",
        "environment](https://cloud.google.com/python/setup) and the [Jupyter\n",
        "installation guide](https://jupyter.org/install) provide detailed instructions\n",
        "for meeting these requirements. The following steps provide a condensed set of\n",
        "instructions:\n",
        "\n",
        "1. [Install and initialize the Cloud SDK.](https://cloud.google.com/sdk/docs/)\n",
        "\n",
        "1. [Install Python 3.](https://cloud.google.com/python/setup#installing_python)\n",
        "\n",
        "1. [Install\n",
        "   virtualenv](https://cloud.google.com/python/setup#installing_and_using_virtualenv)\n",
        "   and create a virtual environment that uses Python 3. Activate the virtual environment.\n",
        "\n",
        "1. To install Jupyter, run `pip install jupyter` on the\n",
        "command-line in a terminal shell.\n",
        "\n",
        "1. To launch Jupyter, run `jupyter notebook` on the command-line in a terminal shell.\n",
        "\n",
        "1. Open this notebook in the Jupyter Notebook dashboard."
      ]
    },
    {
      "cell_type": "markdown",
      "metadata": {
        "id": "f3848df1e5b0"
      },
      "source": [
        "## Installation\n",
        "\n",
        "Install the packages required for executing this notebook."
      ]
    },
    {
      "cell_type": "code",
      "execution_count": null,
      "metadata": {
        "id": "b24b232ee039"
      },
      "outputs": [],
      "source": [
        "import os\n",
        "import sys\n",
        "\n",
        "assert sys.version_info.major == 3, \"This notebook requires Python 3.\"\n",
        "\n",
        "# The Vertex AI Workbench Notebook product has specific requirements\n",
        "IS_WORKBENCH_NOTEBOOK = os.getenv(\"DL_ANACONDA_HOME\") and not os.getenv(\"VIRTUAL_ENV\")\n",
        "IS_USER_MANAGED_WORKBENCH_NOTEBOOK = os.path.exists(\n",
        "    \"/opt/deeplearning/metadata/env_version\"\n",
        ")\n",
        "\n",
        "# Vertex AI Notebook requires dependencies to be installed with '--user'\n",
        "USER_FLAG = \"\"\n",
        "if IS_WORKBENCH_NOTEBOOK:\n",
        "    USER_FLAG = \"--user\"\n",
        "\n",
        "# Don't bother installing tensorflow or explainable_ai_sdk on Colab\n",
        "extra_pkgs = \"tensorflow==2.7 explainable_ai_sdk\"\n",
        "if \"google.colab\" in sys.modules:\n",
        "  extra_pkgs = \"\"\n",
        "\n",
        "# Install required packages.\n",
        "! pip3 install --upgrade -q {USER_FLAG} \\\n",
        "    google-cloud-aiplatform \\\n",
        "    google-cloud-bigquery \\\n",
        "    explainable_ai_sdk \\\n",
        "    $extra_pkgs"
      ]
    },
    {
      "cell_type": "markdown",
      "metadata": {
        "id": "hhq5zEbGg0XX"
      },
      "source": [
        "### Restart the kernel\n",
        "\n",
        "After you install the SDK, you need to restart the notebook kernel so it can find the packages. You can restart kernel from *Kernel -> Restart Kernel*, or running the following:"
      ]
    },
    {
      "cell_type": "code",
      "execution_count": null,
      "metadata": {
        "id": "EzrelQZ22IZj"
      },
      "outputs": [],
      "source": [
        "# Automatically restart kernel after installs\n",
        "import os\n",
        "\n",
        "if not os.getenv(\"IS_TESTING\"):\n",
        "    # Automatically restart kernel after installs\n",
        "    import IPython\n",
        "\n",
        "    app = IPython.Application.instance()\n",
        "    app.kernel.do_shutdown(True)"
      ]
    },
    {
      "cell_type": "markdown",
      "metadata": {
        "id": "BF1j6f9HApxa"
      },
      "source": [
        "### Set up your Google Cloud project\n",
        "\n",
        "**The following steps are required, regardless of your notebook environment.**\n",
        "\n",
        "1. [Select or create a Google Cloud project](https://console.cloud.google.com/cloud-resource-manager). When you first create an account, you get a $300 free credit towards your compute/storage costs.\n",
        "\n",
        "1. [Make sure that billing is enabled for your project](https://cloud.google.com/billing/docs/how-to/modify-project).\n",
        "\n",
        "1. [Enable the Vertex AI API and Compute Engine API](https://console.cloud.google.com/flows/enableapi?apiid=aiplatform.googleapis.com,compute_component).\n",
        "\n",
        "1. If you are running this notebook locally, you will need to install the [Cloud SDK](https://cloud.google.com/sdk).\n",
        "\n",
        "1. Enter your project ID in the cell below. Then run the cell to make sure the\n",
        "Cloud SDK uses the right project for all the commands in this notebook.\n",
        "\n",
        "**Note**: Jupyter runs lines prefixed with `!` as shell commands, and it interpolates Python variables prefixed with `$` into these commands."
      ]
    },
    {
      "cell_type": "markdown",
      "metadata": {
        "id": "WReHDGG5g0XY"
      },
      "source": [
        "#### Set your project ID\n",
        "\n",
        "**If you don't know your project ID**, you may be able to get your project ID using `gcloud`."
      ]
    },
    {
      "cell_type": "code",
      "execution_count": null,
      "metadata": {
        "id": "oM1iC_MfAts1"
      },
      "outputs": [],
      "source": [
        "PROJECT_ID = \"[your-project-id]\"  # @param {type:\"string\"}"
      ]
    },
    {
      "cell_type": "code",
      "execution_count": null,
      "metadata": {
        "id": "riG_qUokg0XZ"
      },
      "outputs": [],
      "source": [
        "if PROJECT_ID == \"\" or PROJECT_ID is None or PROJECT_ID == \"[your-project-id]\":\n",
        "    # Get your GCP project id from gcloud\n",
        "    shell_output = ! gcloud config list --format 'value(core.project)' 2>/dev/null\n",
        "    PROJECT_ID = shell_output[0]\n",
        "    print(\"Project ID:\", PROJECT_ID)"
      ]
    },
    {
      "cell_type": "code",
      "execution_count": null,
      "metadata": {
        "id": "09021c90b34c"
      },
      "outputs": [],
      "source": [
        "! gcloud config set project $PROJECT_ID"
      ]
    },
    {
      "cell_type": "markdown",
      "metadata": {
        "id": "region"
      },
      "source": [
        "#### Region\n",
        "\n",
        "You can also change the `REGION` variable, which is used for operations throughout the rest of this notebook.  Below are regions supported for Vertex AI.\n",
        "\n",
        "- Americas: `us-central1`\n",
        "- Europe: `europe-west4`\n",
        "- Asia Pacific: `asia-east1`\n",
        "\n",
        "**For this notebook, we recommend that you leave the region set to the default value us-central1**.\n",
        "\n",
        "You may not use a multi-regional bucket for training with Vertex AI. Not all regions provide support for all Vertex AI services.\n",
        "\n",
        "Learn more about [Vertex AI regions](https://cloud.google.com/vertex-ai/docs/general/locations)"
      ]
    },
    {
      "cell_type": "code",
      "execution_count": null,
      "metadata": {
        "id": "nUjIaIu0Kb0-"
      },
      "outputs": [],
      "source": [
        "REGION = \"[your-region]\"  # @param {type: \"string\"}\n",
        "\n",
        "if REGION == \"[your-region]\":\n",
        "    REGION = \"us-central1\""
      ]
    },
    {
      "cell_type": "markdown",
      "metadata": {
        "id": "06571eb4063b"
      },
      "source": [
        "#### UUID\n",
        "\n",
        "If you are in a live tutorial session, you might be using a shared test account or project. To avoid name collisions between users on resources created, you create a uuid for each instance session, and append it onto the name of resources you create in this tutorial."
      ]
    },
    {
      "cell_type": "code",
      "execution_count": null,
      "metadata": {
        "id": "4e166d927e36"
      },
      "outputs": [],
      "source": [
        "import random\n",
        "import string\n",
        "\n",
        "\n",
        "# Generate a uuid of a specifed length(default=8)\n",
        "def generate_uuid(length: int = 8) -> str:\n",
        "    return \"\".join(random.choices(string.ascii_lowercase + string.digits, k=length))\n",
        "\n",
        "\n",
        "UUID = generate_uuid()"
      ]
    },
    {
      "cell_type": "markdown",
      "metadata": {
        "id": "dr--iN2kAylZ"
      },
      "source": [
        "### Authenticate your Google Cloud account\n",
        "\n",
        "**If you are using Vertex AI Workbench notebooks**, your environment is already\n",
        "authenticated.\n",
        "\n",
        "**If you are using Colab**, run the cell below and follow the instructions\n",
        "when prompted to authenticate your account via oAuth.\n",
        "\n",
        "**Otherwise**, follow these steps:\n",
        "\n",
        "1. In the Cloud Console, go to the [**Create service account key**\n",
        "   page](https://console.cloud.google.com/apis/credentials/serviceaccountkey).\n",
        "\n",
        "2. Click **Create service account**.\n",
        "\n",
        "3. In the **Service account name** field, enter a name, and\n",
        "   click **Create**.\n",
        "\n",
        "4. In the **Grant this service account access to project** section, click the **Role** drop-down list. Type \"Vertex AI\"\n",
        "into the filter box, and select\n",
        "   **Vertex AI Administrator**. Type \"Storage Object Admin\" into the filter box, and select **Storage Object Admin**.\n",
        "\n",
        "5. Click **Create**. A JSON file that contains your key downloads to your\n",
        "local environment.\n",
        "\n",
        "6. Enter the path to your service account key as the\n",
        "`GOOGLE_APPLICATION_CREDENTIALS` variable in the cell below and run the cell."
      ]
    },
    {
      "cell_type": "markdown",
      "metadata": {
        "id": "sECqTau7Oh6M"
      },
      "source": [
        "### Login to your Google Cloud account and enable AI services"
      ]
    },
    {
      "cell_type": "code",
      "execution_count": null,
      "metadata": {
        "id": "C6H1vZYjvT6w"
      },
      "outputs": [],
      "source": [
        "# If you are running this notebook in Colab, run this cell and follow the\n",
        "# instructions to authenticate your GCP account. This provides access to your\n",
        "# Cloud Storage bucket and lets you submit training jobs and prediction\n",
        "# requests.\n",
        "\n",
        "import os\n",
        "import sys\n",
        "\n",
        "# If on Vertex AI Workbench, then don't execute this code\n",
        "IS_COLAB = \"google.colab\" in sys.modules\n",
        "if not os.path.exists(\"/opt/deeplearning/metadata/env_version\") and not os.getenv(\n",
        "    \"DL_ANACONDA_HOME\"\n",
        "):\n",
        "    if \"google.colab\" in sys.modules:\n",
        "        from google.colab import auth as google_auth\n",
        "\n",
        "        google_auth.authenticate_user()\n",
        "\n",
        "    # If you are running this notebook locally, replace the string below with the\n",
        "    # path to your service account key and run this cell to authenticate your GCP\n",
        "    # account.\n",
        "    elif not os.getenv(\"IS_TESTING\"):\n",
        "        %env GOOGLE_APPLICATION_CREDENTIALS ''"
      ]
    },
    {
      "cell_type": "markdown",
      "metadata": {
        "id": "8RJ3_20etd31"
      },
      "source": [
        "### Notes about service account and permission\n",
        "\n",
        "**By default no configuration is required**, if you run into any permission related issue, please make sure the service accounts above have the required roles:\n",
        "\n",
        "|Service account email|Description|Roles|\n",
        "|---|---|---|\n",
        "|PROJECT_NUMBER-compute@developer.gserviceaccount.com|Compute Engine default service account|Dataflow Admin, Dataflow Worker, Storage Admin, BigQuery Admin, Vertex AI User|\n",
        "|service-PROJECT_NUMBER@gcp-sa-aiplatform.iam.gserviceaccount.com|AI Platform Service Agent|Vertex AI Service Agent|\n",
        "\n",
        "\n",
        "1. Goto https://console.cloud.google.com/iam-admin/iam.\n",
        "2. Check the \"Include Google-provided role grants\" checkbox.\n",
        "3. Find the above emails.\n",
        "4. Grant the corresponding roles.\n",
        "\n",
        "### Using data source from a different project\n",
        "- For the BQ data source, grant both service accounts the \"BigQuery Data Viewer\" role.\n",
        "- For the CSV data source, grant both service accounts the \"Storage Object Viewer\" role."
      ]
    },
    {
      "cell_type": "markdown",
      "metadata": {
        "id": "XoEqT2Y4DJmf"
      },
      "source": [
        "### Import libraries and define constants"
      ]
    },
    {
      "cell_type": "code",
      "execution_count": null,
      "metadata": {
        "id": "8353fb6d69a0"
      },
      "outputs": [],
      "source": [
        "# Import required packages.\n",
        "import os\n",
        "import pprint as pp\n",
        "import sys\n",
        "\n",
        "import google.cloud.aiplatform as aiplatform\n",
        "import matplotlib.pyplot as plt\n",
        "from google.cloud import bigquery\n",
        "from google.cloud.aiplatform import model_monitoring\n",
        "from google.cloud.aiplatform.explain.metadata.tf.v2 import \\\n",
        "    saved_model_metadata_builder"
      ]
    },
    {
      "cell_type": "code",
      "execution_count": null,
      "metadata": {
        "id": "51010fc06d8c"
      },
      "outputs": [],
      "source": [
        "if os.getenv(\"IS_TESTING\"):\n",
        "    ! gcloud --quiet components install beta\n",
        "    ! gcloud --quiet components update\n",
        "\n",
        "! gcloud config set ai/region $REGION\n",
        "os.environ[\"GOOGLE_CLOUD_PROJECT\"] = PROJECT_ID"
      ]
    },
    {
      "cell_type": "markdown",
      "metadata": {
        "id": "init_aip:mbsdk,region"
      },
      "source": [
        "### Initialize Vertex AI SDK for Python\n",
        "\n",
        "Initialize the Vertex AI SDK for Python for your project and corresponding bucket."
      ]
    },
    {
      "cell_type": "code",
      "execution_count": null,
      "metadata": {
        "id": "wGa5T9eRR8Mz"
      },
      "outputs": [],
      "source": [
        "aiplatform.init(project=PROJECT_ID, location=REGION)"
      ]
    },
    {
      "cell_type": "markdown",
      "metadata": {
        "id": "init_bq"
      },
      "source": [
        "### Create BigQuery client\n",
        "\n",
        "In this tutorial, you use data from the same public BigQuery table that was used to train the pre-trained model. You create a client interface, which you subsequently use to access the data."
      ]
    },
    {
      "cell_type": "code",
      "execution_count": null,
      "metadata": {
        "id": "PuwUAbounqxp"
      },
      "outputs": [],
      "source": [
        "bqclient = bigquery.Client(project=PROJECT_ID)"
      ]
    },
    {
      "cell_type": "markdown",
      "metadata": {
        "id": "tvgnzT1CKxrO"
      },
      "source": [
        "### The example model\n",
        "\n",
        "The model you use in this notebook is based on [this blog post](https://cloud.google.com/blog/topics/developers-practitioners/churn-prediction-game-developers-using-google-analytics-4-ga4-and-bigquery-ml). The idea behind this model is that your company has extensive log data describing how your game users have interacted with the site. The raw data contains the following categories of information:\n",
        "\n",
        "- identity - unique player identitity numbers\n",
        "- demographic features - information about the player, such as the geographic region in which a player is located\n",
        "- behavioral features - counts of the number of times a  player has triggered certain game events, such as reaching a new level\n",
        "- churn propensity - this is the label or target feature, it provides an estimated probability that this player will churn, i.e. stop being an active player.\n",
        "\n",
        "The blog article referenced above explains how to use BigQuery to store the raw data, pre-process the data for machine learning, and train the corresponding model. Because this notebook focuses on model monitoring, rather than training models, you're going to reuse a pre-trained version of this model, which has been exported to Cloud Storage. In the next section, you will setup your environment and import this model into your own project."
      ]
    },
    {
      "cell_type": "markdown",
      "metadata": {
        "id": "btZeLzqQ7pXc"
      },
      "source": [
        "### Define some helper data structures\n",
        "\n",
        "Run the following cell to define some data structures used throughout this notebook."
      ]
    },
    {
      "cell_type": "code",
      "execution_count": null,
      "metadata": {
        "cellView": "form",
        "id": "0zBhvh642JdH"
      },
      "outputs": [],
      "source": [
        "# @title Utility data structures\n",
        "\n",
        "# Sampling distributions for categorical features...\n",
        "DAYOFWEEK = {1: 1040, 2: 1223, 3: 1352, 4: 1217, 5: 1078, 6: 1011, 7: 1110}\n",
        "\n",
        "LANGUAGE = {\n",
        "    \"en-us\": 4807,\n",
        "    \"en-gb\": 678,\n",
        "    \"ja-jp\": 419,\n",
        "    \"en-au\": 310,\n",
        "    \"en-ca\": 299,\n",
        "    \"de-de\": 147,\n",
        "    \"en-in\": 130,\n",
        "    \"en\": 127,\n",
        "    \"fr-fr\": 94,\n",
        "    \"pt-br\": 81,\n",
        "    \"es-us\": 65,\n",
        "    \"zh-tw\": 64,\n",
        "    \"zh-hans-cn\": 55,\n",
        "    \"es-mx\": 53,\n",
        "    \"nl-nl\": 37,\n",
        "    \"fr-ca\": 34,\n",
        "    \"en-za\": 29,\n",
        "    \"vi-vn\": 29,\n",
        "    \"en-nz\": 29,\n",
        "    \"es-es\": 25,\n",
        "}\n",
        "\n",
        "OS = {\"IOS\": 3980, \"ANDROID\": 3798, \"null\": 253}\n",
        "\n",
        "MONTH = {6: 3125, 7: 1838, 8: 1276, 9: 1718, 10: 74}\n",
        "\n",
        "COUNTRY = {\n",
        "    \"United States\": 4395,\n",
        "    \"India\": 486,\n",
        "    \"Japan\": 450,\n",
        "    \"Canada\": 354,\n",
        "    \"Australia\": 327,\n",
        "    \"United Kingdom\": 303,\n",
        "    \"Germany\": 144,\n",
        "    \"Mexico\": 102,\n",
        "    \"France\": 97,\n",
        "    \"Brazil\": 93,\n",
        "    \"Taiwan\": 72,\n",
        "    \"China\": 65,\n",
        "    \"Saudi Arabia\": 49,\n",
        "    \"Pakistan\": 48,\n",
        "    \"Egypt\": 46,\n",
        "    \"Netherlands\": 45,\n",
        "    \"Vietnam\": 42,\n",
        "    \"Philippines\": 39,\n",
        "    \"South Africa\": 38,\n",
        "}\n",
        "\n",
        "# Means and standard deviations for numerical features...\n",
        "MEAN_SD = {\n",
        "    \"julianday\": (204.6, 34.7),\n",
        "    \"cnt_user_engagement\": (30.8, 53.2),\n",
        "    \"cnt_level_start_quickplay\": (7.8, 28.9),\n",
        "    \"cnt_level_end_quickplay\": (5.0, 16.4),\n",
        "    \"cnt_level_complete_quickplay\": (2.1, 9.9),\n",
        "    \"cnt_level_reset_quickplay\": (2.0, 19.6),\n",
        "    \"cnt_post_score\": (4.9, 13.8),\n",
        "    \"cnt_spend_virtual_currency\": (0.4, 1.8),\n",
        "    \"cnt_ad_reward\": (0.1, 0.6),\n",
        "    \"cnt_challenge_a_friend\": (0.0, 0.3),\n",
        "    \"cnt_completed_5_levels\": (0.1, 0.4),\n",
        "    \"cnt_use_extra_steps\": (0.4, 1.7),\n",
        "}\n",
        "\n",
        "DEFAULT_INPUT = {\n",
        "    \"cnt_ad_reward\": 0,\n",
        "    \"cnt_challenge_a_friend\": 0,\n",
        "    \"cnt_completed_5_levels\": 1,\n",
        "    \"cnt_level_complete_quickplay\": 3,\n",
        "    \"cnt_level_end_quickplay\": 5,\n",
        "    \"cnt_level_reset_quickplay\": 2,\n",
        "    \"cnt_level_start_quickplay\": 6,\n",
        "    \"cnt_post_score\": 34,\n",
        "    \"cnt_spend_virtual_currency\": 0,\n",
        "    \"cnt_use_extra_steps\": 0,\n",
        "    \"cnt_user_engagement\": 120,\n",
        "    \"country\": \"Denmark\",\n",
        "    \"dayofweek\": 3,\n",
        "    \"julianday\": 254,\n",
        "    \"language\": \"da-dk\",\n",
        "    \"month\": 9,\n",
        "    \"operating_system\": \"IOS\",\n",
        "    \"user_pseudo_id\": \"104B0770BAE16E8B53DF330C95881893\",\n",
        "}"
      ]
    },
    {
      "cell_type": "markdown",
      "metadata": {
        "id": "1mhT_d_Bi-Kf"
      },
      "source": [
        "### Generate model metadata for Vertex Explainable AI\n",
        "\n",
        "Run the following cell to extract metadata from the exported model, which is needed for generating the explanations for a prediction request."
      ]
    },
    {
      "cell_type": "code",
      "execution_count": null,
      "metadata": {
        "id": "d1a984c57356"
      },
      "outputs": [],
      "source": [
        "MODEL_PATH = \"gs://mco-mm/churn\"\n",
        "\n",
        "params = {\"sampled_shapley_attribution\": {\"path_count\": 10}}\n",
        "EXPLAIN_PARAMS = aiplatform.explain.ExplanationParameters(params)\n",
        "\n",
        "builder = saved_model_metadata_builder.SavedModelMetadataBuilder(\n",
        "    model_path=MODEL_PATH, outputs_to_explain=[\"churned_probs\"]\n",
        ")\n",
        "EXPLAIN_META = builder.get_metadata_protobuf()"
      ]
    },
    {
      "cell_type": "markdown",
      "metadata": {
        "id": "lAOk8UqvCL0S"
      },
      "source": [
        "## Upload your model\n",
        "\n",
        "The churn propensity model you use in this notebook has been trained in BigQuery ML and exported to a Cloud Storage bucket. This illustrates how you can easily export a trained model and move a model from one cloud service to another. \n",
        "\n",
        "Run the next cell to import this model into your project. **If you've already imported your model, you can skip this step.**"
      ]
    },
    {
      "cell_type": "code",
      "execution_count": null,
      "metadata": {
        "id": "qJKpxpexu5ZS"
      },
      "outputs": [],
      "source": [
        "MODEL_NAME = \"churn\"\n",
        "IMAGE = \"us-docker.pkg.dev/cloud-aiplatform/prediction/tf2-cpu.2-5:latest\"\n",
        "\n",
        "model = aiplatform.Model.upload(\n",
        "    display_name=MODEL_NAME,\n",
        "    artifact_uri=MODEL_PATH,\n",
        "    serving_container_image_uri=IMAGE,\n",
        "    explanation_parameters=EXPLAIN_PARAMS,\n",
        "    explanation_metadata=EXPLAIN_META,\n",
        "    sync=True,\n",
        ")\n",
        "\n",
        "MODEL_ID = model.resource_name.split(\"/\")[-1]"
      ]
    },
    {
      "cell_type": "markdown",
      "metadata": {
        "id": "e2030b028cef"
      },
      "source": [
        "Once the above cell completes, you should see a new model on the Vertex AI Model Registry page on the Cloud Console."
      ]
    },
    {
      "cell_type": "markdown",
      "metadata": {
        "id": "d7cbb0fb73cc"
      },
      "source": [
        "## Deploy your Model resource to an Endpoint resource\n",
        "\n",
        "Now that you've imported your model into your project, you need to create an endpoint to serve your model. An endpoint can be thought of as a channel through which your model provides prediction services. Once established, you can make online prediction requests on your model via the public internet.  Your endpoint is also serverless, in the sense that Google Cloud ensures high availability by reducing single points of failure, and scalability by dynamically allocating resources to meet the demand for your service. In this way, you are able to focus on your model quality, and freed from adminstrative and infrastructure concerns.\n",
        "\n",
        "Run the next cell to deploy your model to an endpoint. **This will take about ten minutes to complete.**"
      ]
    },
    {
      "cell_type": "code",
      "execution_count": null,
      "metadata": {
        "id": "AuZQ5D1_CfR7"
      },
      "outputs": [],
      "source": [
        "endpoint = model.deploy(machine_type=\"n1-standard-4\")\n",
        "print(f\"endpoint display name: {endpoint.display_name}\")\n",
        "print(f\"endpoint resource name: {endpoint.resource_name}\")\n",
        "ENDPOINT = endpoint.resource_name\n",
        "ENDPOINT_ID = ENDPOINT.split(\"/\")[-1]"
      ]
    },
    {
      "cell_type": "markdown",
      "metadata": {
        "id": "HmhoNm4saoCQ"
      },
      "source": [
        "Once the above cell completes, you should see a new endoint \n",
        "on the Vertex AI Endpoints page on the Cloud Console."
      ]
    },
    {
      "cell_type": "markdown",
      "metadata": {
        "id": "NKsA_lfl9Ryw"
      },
      "source": [
        "## Run a prediction test\n",
        "\n",
        "Now that you have imported a model and deployed that model to an endpoint, you are ready to verify that it's working. Run the next cell to send a test prediction request. If everything works as expected, you should receive a response encoded in a text representation called JSON, along with a pie chart summarizing the results.\n",
        "\n",
        "**Try this now by running the next cell.**"
      ]
    },
    {
      "cell_type": "code",
      "execution_count": null,
      "metadata": {
        "id": "QNEb7fDJ9NXc"
      },
      "outputs": [],
      "source": [
        "try:\n",
        "    resp = endpoint.predict([DEFAULT_INPUT])\n",
        "    for i in resp.predictions:\n",
        "        vals = i[\"churned_values\"]\n",
        "        probs = i[\"churned_probs\"]\n",
        "    for i in range(len(vals)):\n",
        "        print(vals[i], probs[i])\n",
        "    plt.pie(probs, labels=vals)\n",
        "    pp.pprint(resp)\n",
        "except Exception as ex:\n",
        "    print(\"prediction request failed\", ex)"
      ]
    },
    {
      "cell_type": "markdown",
      "metadata": {
        "id": "a1eb4131bb5e"
      },
      "source": [
        "### Test results\n",
        "\n",
        "Taking a look at the results, you see the following elements:\n",
        "\n",
        "- **churned_values** - a set of possible values (0 and 1) for the target field\n",
        "- **churned_probs** - a corresponding set of probabilities for each possible target field value (5x10^-40 and 1.0, respectively)\n",
        "- **predicted_churn** - based on the probabilities, the predicted value of the target field (1)\n",
        "\n",
        "This response encodes the model's prediction in a format that is readily digestible by software, which makes this service ideal for automated use by an application."
      ]
    },
    {
      "cell_type": "markdown",
      "metadata": {
        "id": "be7830c55cdc"
      },
      "source": [
        "## Run an explanation test\n",
        "\n",
        "You can run a test of Explainable AI on this endpoint. Run the next cell to send a test explanation request. The response you receive encodes the feature importance of this prediction in a text representation called JSON, along with a bar chart summarizing the results.\n",
        "\n",
        "**Try this now by running the next cell.**"
      ]
    },
    {
      "cell_type": "code",
      "execution_count": null,
      "metadata": {
        "id": "dcbd4e755931"
      },
      "outputs": [],
      "source": [
        "try:\n",
        "    features = []\n",
        "    scores = []\n",
        "    resp = endpoint.explain([DEFAULT_INPUT])\n",
        "    for i in resp.explanations:\n",
        "        for j in i.attributions:\n",
        "            for k in j.feature_attributions:\n",
        "                features.append(k)\n",
        "                scores.append(j.feature_attributions[k])\n",
        "    features = [x for _, x in sorted(zip(scores, features))]\n",
        "    scores = sorted(scores)\n",
        "    fig, ax = plt.subplots()\n",
        "    fig.set_size_inches(9, 9)\n",
        "    ax.barh(features, scores)\n",
        "    fig.show()\n",
        "except Exception as ex:\n",
        "    print(\"explanation request failed\", ex)"
      ]
    },
    {
      "cell_type": "markdown",
      "metadata": {
        "id": "8rF5iLuXCT7i"
      },
      "source": [
        "## Start your monitoring job\n",
        "\n",
        "Now that you've created an endpoint to serve prediction requests on your model, you're ready to start a monitoring job to keep an eye on model quality and to alert you if and when input begins to deviate in way that may impact your model's prediction quality.\n",
        "\n",
        "In this section, you configure and create a model monitoring job based on the churn propensity model you imported from BigQuery ML."
      ]
    },
    {
      "cell_type": "markdown",
      "metadata": {
        "id": "wW2gLBQ3Zkhq"
      },
      "source": [
        "### Configure the following fields:\n",
        "\n",
        "1. Log sample rate - Your prediction requests and responses are logged to BigQuery tables, which are automatically created when you create a monitoring job. This parameter specifies the desired logging frequency for those tables.\n",
        "1. Monitor interval - time window over which to analyze your data and report anomalies. The minimum window is one hour (1)\n",
        "1. Target field - prediction target column name in training dataset\n",
        "1. Skew detection threshold - skew threshold for each feature you want to monitor\n",
        "1. Prediction drift threshold - drift threshold for each feature you want to monitor\n",
        "1. Attribution Skew detection threshold - feature importance skew threshold\n",
        "1. Attribution Prediction drift threshold - feature importance drift threshold"
      ]
    },
    {
      "cell_type": "code",
      "execution_count": null,
      "metadata": {
        "id": "plpASmM2YIVO"
      },
      "outputs": [],
      "source": [
        "USER_EMAIL = \"[your-email-address]\"  # @param {type:\"string\"}\n",
        "JOB_NAME = \"churn\"\n",
        "\n",
        "# Sampling rate (optional, default=.8)\n",
        "LOG_SAMPLE_RATE = 0.8  # @param {type:\"number\"}\n",
        "\n",
        "# Monitoring Interval in hours (optional, default=1).\n",
        "MONITOR_INTERVAL = 1  # @param {type:\"number\"}\n",
        "\n",
        "# URI to training dataset.\n",
        "DATASET_BQ_URI = \"bq://mco-mm.bqmlga4.train\"  # @param {type:\"string\"}\n",
        "# Prediction target column name in training dataset.\n",
        "TARGET = \"churned\"\n",
        "\n",
        "# # Skew and drift thresholds.\n",
        "\n",
        "DEFAULT_THRESHOLD_VALUE = 0.001\n",
        "\n",
        "SKEW_THRESHOLDS = {\n",
        "    \"country\": DEFAULT_THRESHOLD_VALUE,\n",
        "    \"cnt_user_engagement\": DEFAULT_THRESHOLD_VALUE,\n",
        "}\n",
        "DRIFT_THRESHOLDS = {\n",
        "    \"country\": DEFAULT_THRESHOLD_VALUE,\n",
        "    \"cnt_user_engagement\": DEFAULT_THRESHOLD_VALUE,\n",
        "}\n",
        "ATTRIB_SKEW_THRESHOLDS = {\n",
        "    \"country\": DEFAULT_THRESHOLD_VALUE,\n",
        "    \"cnt_user_engagement\": DEFAULT_THRESHOLD_VALUE,\n",
        "}\n",
        "ATTRIB_DRIFT_THRESHOLDS = {\n",
        "    \"country\": DEFAULT_THRESHOLD_VALUE,\n",
        "    \"cnt_user_engagement\": DEFAULT_THRESHOLD_VALUE,\n",
        "}"
      ]
    },
    {
      "cell_type": "markdown",
      "metadata": {
        "id": "e10f3d0fa538"
      },
      "source": [
        "You can change the threshold values and the configuration settings, so that you can monitor other features in the model as well."
      ]
    },
    {
      "cell_type": "markdown",
      "metadata": {
        "id": "mjVSViZR-dP2"
      },
      "source": [
        "### Create your monitoring job\n",
        "\n",
        "The following code uses the Google Python client library to translate your configuration settings into a programmatic request to start a model monitoring job. Instantiating a monitoring job can take some time. If everything looks good with your request, you'll get a successful API response. Then, you'll need to check your email to receive a notification that the job is running."
      ]
    },
    {
      "cell_type": "code",
      "execution_count": null,
      "metadata": {
        "id": "-62TYm2iYv3K"
      },
      "outputs": [],
      "source": [
        "skew_config = model_monitoring.SkewDetectionConfig(\n",
        "    data_source=DATASET_BQ_URI,\n",
        "    skew_thresholds=SKEW_THRESHOLDS,\n",
        "    attribute_skew_thresholds=ATTRIB_SKEW_THRESHOLDS,\n",
        "    target_field=TARGET,\n",
        ")\n",
        "\n",
        "drift_config = model_monitoring.DriftDetectionConfig(\n",
        "    drift_thresholds=DRIFT_THRESHOLDS,\n",
        "    attribute_drift_thresholds=ATTRIB_DRIFT_THRESHOLDS,\n",
        ")\n",
        "\n",
        "explanation_config = model_monitoring.ExplanationConfig()\n",
        "objective_config = model_monitoring.ObjectiveConfig(\n",
        "    skew_config, drift_config, explanation_config\n",
        ")\n",
        "\n",
        "# Create sampling configuration\n",
        "random_sampling = model_monitoring.RandomSampleConfig(sample_rate=LOG_SAMPLE_RATE)\n",
        "\n",
        "# Create schedule configuration\n",
        "schedule_config = model_monitoring.ScheduleConfig(monitor_interval=MONITOR_INTERVAL)\n",
        "\n",
        "# Create alerting configuration.\n",
        "emails = [USER_EMAIL]\n",
        "alerting_config = model_monitoring.EmailAlertConfig(\n",
        "    user_emails=emails, enable_logging=True\n",
        ")\n",
        "\n",
        "# Create the monitoring job.\n",
        "job = aiplatform.ModelDeploymentMonitoringJob.create(\n",
        "    display_name=JOB_NAME,\n",
        "    logging_sampling_strategy=random_sampling,\n",
        "    schedule_config=schedule_config,\n",
        "    alert_config=alerting_config,\n",
        "    objective_configs=objective_config,\n",
        "    project=PROJECT_ID,\n",
        "    location=REGION,\n",
        "    endpoint=endpoint,\n",
        ")"
      ]
    },
    {
      "cell_type": "markdown",
      "metadata": {
        "id": "SaXYVFFslRru"
      },
      "source": [
        "### Receiving email alert\n",
        "After a minute or two, you should receive email at the address you configured above for USER_EMAIL. This email confirms successful deployment of your monitoring job. Here's a sample of what this email might look like:\n",
        "<br>\n",
        "<br>\n",
        "<img src=\"https://storage.googleapis.com/mco-general/img/mm6.png\" />\n",
        "<br>\n",
        "As your monitoring job collects data, measurements are stored in Cloud Storage and you are free to examine your data at any time. The \"Statistics and Anomalies Root Path\" specifies the location of your measurements in Cloud Storage. Run the following cell to see an example of the layout of these measurements in Cloud Storage. If you substitute the Cloud Storage URL in your job creation email, you can view the structure and content of the data files for your own monitoring job."
      ]
    },
    {
      "cell_type": "markdown",
      "metadata": {
        "id": "6f38e8423bce"
      },
      "source": [
        "### Create the sampling distribution\n",
        "\n",
        "Next, you send a first test prediction request. The model monitoring service will analyze the distribution of features and automatically create a baseline to monitor deviations from the baseline.\n",
        "\n",
        "*Note:* You need to wait for the email notification before making the first prediction request."
      ]
    },
    {
      "cell_type": "markdown",
      "metadata": {
        "id": "3960076190ab"
      },
      "source": [
        "## Initialize the parsing for automatically generating the input schema\n",
        "\n",
        "After your `Endpoint` receives a 1000 prediction requests, the modeling service will automatically parse and create the `input schema`.\n",
        "\n",
        "### Create the 1000 instance data\n",
        "\n",
        "In this example, the first 1000 entries in the BigQuery training data are used as the first 1000 prediction requests. \n",
        "\n",
        "*Note:* In this context, each instance is a prediction request. In otherwords, sending 1000 prediction requests of a single instance is the same as sending a single prediction request with 1000 instances."
      ]
    },
    {
      "cell_type": "code",
      "execution_count": null,
      "metadata": {
        "id": "cb26c3dea306"
      },
      "outputs": [],
      "source": [
        "# Download the table.\n",
        "table = bigquery.TableReference.from_string(DATASET_BQ_URI[5:])\n",
        "\n",
        "rows = bqclient.list_rows(table, max_results=1000)\n",
        "\n",
        "instances = []\n",
        "for row in rows:\n",
        "    instance = {}\n",
        "    for key, value in row.items():\n",
        "        if key == TARGET:\n",
        "            continue\n",
        "        if value is None:\n",
        "            value = \"\"\n",
        "        instance[key] = value\n",
        "    instances.append(instance)\n",
        "\n",
        "print(len(instances))"
      ]
    },
    {
      "cell_type": "markdown",
      "metadata": {
        "id": "6d002569dadc"
      },
      "source": [
        "### Make the initial prediction request\n",
        "\n",
        "Next, you send the the 1000 prediction request to your `Vertex AI Endpoint` resource using the `predict()` method."
      ]
    },
    {
      "cell_type": "code",
      "execution_count": null,
      "metadata": {
        "id": "b2d69d89cd66"
      },
      "outputs": [],
      "source": [
        "response = endpoint.predict(instances=instances)\n",
        "\n",
        "prediction = response[0]\n",
        "\n",
        "# print the prediction for the first instance\n",
        "print(prediction[0])"
      ]
    },
    {
      "cell_type": "markdown",
      "metadata": {
        "id": "e990a8821178"
      },
      "source": [
        "### Automatic generation of the input schema\n",
        "\n",
        "After the model monitoring service receives 1000 instances of prediction requests, the monitoring will start analyzing the prediction requests to automatically generate an `input schema` for the feature inputs.\n",
        "\n",
        "### Automatic generation of the baseline distribution\n",
        "\n",
        "After the `input schema` is generated, the monitoring service creates a batch job to analyze the training data to determine the baseline distribution. "
      ]
    },
    {
      "cell_type": "code",
      "execution_count": null,
      "metadata": {
        "id": "670b5bc98c2a"
      },
      "outputs": [],
      "source": [
        "# Pause a bit for the baseline distribution to be calculated\n",
        "if os.getenv(\"IS_TESTING\"):\n",
        "    import time\n",
        "\n",
        "    time.sleep(120)"
      ]
    },
    {
      "cell_type": "markdown",
      "metadata": {
        "id": "8f9455fc894d"
      },
      "source": [
        "### Example of monitoring data stored in Cloud Storage"
      ]
    },
    {
      "cell_type": "code",
      "execution_count": null,
      "metadata": {
        "id": "XV-vru2Pm1oX"
      },
      "outputs": [],
      "source": [
        "!gsutil ls gs://cloud-ai-platform-fdfb4810-148b-4c86-903c-dbdff879f6e1/*/*"
      ]
    },
    {
      "cell_type": "markdown",
      "metadata": {
        "id": "XgUwU0sDpUUD"
      },
      "source": [
        "### Cloud storage layout\n",
        "Notice the following components in these Cloud Storage paths:\n",
        "\n",
        "- **cloud-ai-platform-..** - This is a bucket created for you and assigned to capture your service's prediction data. Each monitoring job you create will trigger creation of a new folder in this bucket.\n",
        "- **[model_monitoring|instance_schemas]/job-..** - This is your unique monitoring job number, which you can see above in both the response to your job creation requesst and the email notification. \n",
        "- **instance_schemas/job-../analysis** - This is the monitoring jobs understanding and encoding of your training data's schema (field names, types, etc.).\n",
        "- **instance_schemas/job-../predict** - This is the first prediction made to your model after the current monitoring job was enabled.\n",
        "- **model_monitoring/job-../serving** - This folder is used to record data relevant to drift calculations. It contains measurement summaries for every hour your model serves traffic.\n",
        "- **model_monitoring/job-../training** - This folder is used to record data relevant to training-serving skew calculations. It contains an ongoing summary of prediction data relative to training data.\n",
        "- **model_monitoring/job-../feature_attribution_score** - This folder is used to record data relevant to feature attribution calculations. It contains an ongoing summary of feature attribution scores relative to training data."
      ]
    },
    {
      "cell_type": "markdown",
      "metadata": {
        "id": "8V2zo7-MMd7G"
      },
      "source": [
        "### You can create monitoring jobs with other user interfaces\n",
        "\n",
        "In the previous cells, you created a monitoring job using the Python client library. Alternatively, you can use the *gcloud* command line tool or the Cloud Console to create a model monitoring job. \n"
      ]
    },
    {
      "cell_type": "markdown",
      "metadata": {
        "id": "bQohDTJgLQlW"
      },
      "source": [
        "## Interpret your results\n",
        "\n",
        "Vertex AI Model Monitoring detects an anomaly when the threshold set for a feature is exceeded. The following cells give you a sense of the alerting and reporting experience after model monitoring anomalies have been detected.\n",
        "\n",
        "Vertex AI Model Monitoring automatically notifies you of detected anomalies through email, but you can also [set up alerts through Cloud Logging](https://cloud.google.com/vertex-ai/docs/model-monitoring/using-model-monitoring#monitor-job)."
      ]
    },
    {
      "cell_type": "markdown",
      "metadata": {
        "id": "uGPI92qbOFUR"
      },
      "source": [
        "### Here's what a sample email alert looks like...\n",
        "\n",
        "<img src=\"https://storage.googleapis.com/mco-general/img/mm7.png\" />\n"
      ]
    },
    {
      "cell_type": "markdown",
      "metadata": {
        "id": "HoaqsxpaRs1m"
      },
      "source": [
        "This email is warning you that the *cnt_level_start_quickplay*, *cnt_user_engagement*, and *country* feature values seen in production have skewed above your threshold between training and serving your model. It's also telling you that the *cnt_user_engagement* and *country* feature attribution values are skewed relative to your training data, again, as per your threshold specification."
      ]
    },
    {
      "cell_type": "markdown",
      "metadata": {
        "id": "w4jVIVq4VzB_"
      },
      "source": [
        "### Monitoring results in the Cloud Console\n",
        "\n",
        "You can examine your model monitoring data from the Cloud Console. Below is a screenshot of those capabilities."
      ]
    },
    {
      "cell_type": "markdown",
      "metadata": {
        "id": "2OdIMVBAPZi_"
      },
      "source": [
        "#### Monitoring Status\n",
        "\n",
        "You can verify that a given endpoint has an active model monitoring job via the Endpoint summary page:\n",
        "\n",
        "<img src=\"https://storage.googleapis.com/mco-general/img/mm1.png\" />\n",
        "\n",
        "#### Monitoring Alerts\n",
        "\n",
        "You can examine the alert details by clicking into the endpoint of interest, and selecting the alerts panel:\n",
        "\n",
        "<img src=\"https://storage.googleapis.com/mco-general/img/mm2.png\" />\n",
        "\n",
        "#### Feature Value Distributions\n",
        "\n",
        "You can also examine the recorded training and production feature distributions by drilling down into a given feature, like this:\n",
        "\n",
        "<img src=\"https://storage.googleapis.com/mco-general/img/mm9.png\" />\n",
        "\n",
        "which yields graphical representations of the feature distrubution during both training and production, like this:\n",
        "\n",
        "<img src=\"https://storage.googleapis.com/mco-general/img/mm8.png\" />"
      ]
    },
    {
      "cell_type": "markdown",
      "metadata": {
        "id": "TpV-iwP9qw9c"
      },
      "source": [
        "## Clean up\n",
        "\n",
        "When you are finished with this notebook, you can clean up all Google Cloud resources used in this project, by [deleting the Google Cloud\n",
        "project](https://cloud.google.com/resource-manager/docs/creating-managing-projects#shutting_down_projects) you used for the tutorial.\n",
        "\n",
        "Alternatively, you can preserve the project and delete the individual resources you created in this tutorial by executing the following cell."
      ]
    },
    {
      "cell_type": "code",
      "execution_count": null,
      "metadata": {
        "id": "d6cc924aa1fb"
      },
      "outputs": [],
      "source": [
        "# Undeploy the model and delete the endpoint\n",
        "endpoint.undeploy_all()\n",
        "endpoint.delete()\n",
        "\n",
        "model.delete()\n",
        "\n",
        "# Delete BQ table and dataset\n",
        "rmtable = f\"bq rm -f model_deployment_monitoring_{ENDPOINT_ID}.serving_predict\"\n",
        "! $rmtable\n",
        "rmdataset = f\"bq rm -f model_deployment_monitoring_{ENDPOINT_ID}\"\n",
        "! $rmdataset"
      ]
    },
    {
      "cell_type": "markdown",
      "metadata": {
        "id": "j3Dh15h3-NoO"
      },
      "source": [
        "## Learn more about model monitoring\n",
        "\n",
        "**Congratulations!** You've now learned what model monitoring is, how to configure and enable it, and how to find and interpret the results. Check out the following resources to learn more about model monitoring and ML Ops.\n",
        "\n",
        "- [TensorFlow Data Validation](https://www.tensorflow.org/tfx/guide/tfdv)\n",
        "- [Data Understanding, Validation, and Monitoring At Scale](https://blog.tensorflow.org/2018/09/introducing-tensorflow-data-validation.html)\n",
        "- [Vertex Product Documentation](https://cloud.google.com/vertex-ai)\n",
        "- [Vertex AI Model Monitoring Reference Docs](https://cloud.google.com/vertex-ai/docs/reference)\n",
        "- [Vertex AI Model Monitoring blog article](https://cloud.google.com/blog/topics/developers-practitioners/monitor-models-training-serving-skew-vertex-ai)\n",
        "- [Explainable AI Whitepaper](https://storage.googleapis.com/cloud-ai-whitepapers/AI%20Explainability%20Whitepaper.pdf)"
      ]
    }
  ],
  "metadata": {
    "colab": {
      "name": "model_monitoring.ipynb",
      "toc_visible": true,
      "provenance": [],
      "include_colab_link": true
    },
    "kernelspec": {
      "display_name": "Python 3",
      "name": "python3"
    }
  },
  "nbformat": 4,
  "nbformat_minor": 0
}